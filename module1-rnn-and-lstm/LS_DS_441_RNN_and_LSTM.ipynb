{
 "cells": [
  {
   "cell_type": "markdown",
   "metadata": {
    "colab_type": "text",
    "id": "_IizNKWLomoA"
   },
   "source": [
    "# Lambda School Data Science - Recurrent Neural Networks and LSTM\n",
    "\n",
    "> \"Yesterday's just a memory - tomorrow is never what it's supposed to be.\" -- Bob Dylan"
   ]
  },
  {
   "cell_type": "markdown",
   "metadata": {
    "colab_type": "text",
    "id": "0EZdBzC6pvV9"
   },
   "source": [
    "# Lecture\n",
    "\n",
    "Wish you could save [Time In A Bottle](https://www.youtube.com/watch?v=AnWWj6xOleY)? With statistics you can do the next best thing - understand how data varies over time (or any sequential order), and use the order/time dimension predictively.\n",
    "\n",
    "A sequence is just any enumerated collection - order counts, and repetition is allowed. Python lists are a good elemental example - `[1, 2, 2, -1]` is a valid list, and is different from `[1, 2, -1, 2]`. The data structures we tend to use (e.g. NumPy arrays) are often built on this fundamental structure.\n",
    "\n",
    "A time series is data where you have not just the order but some actual continuous marker for where they lie \"in time\" - this could be a date, a timestamp, [Unix time](https://en.wikipedia.org/wiki/Unix_time), or something else. All time series are also sequences, and for some techniques you may just consider their order and not \"how far apart\" the entries are (if you have particularly consistent data collected at regular intervals it may not matter)."
   ]
  },
  {
   "cell_type": "markdown",
   "metadata": {
    "colab_type": "text",
    "id": "5_m0hJ4uCzHz"
   },
   "source": [
    "## Time series with plain old regression\n",
    "\n",
    "Recurrences are fancy, and we'll get to those later - let's start with something simple. Regression can handle time series just fine if you just set them up correctly - let's try some made-up stock data. And to make it, let's use a few list comprehensions!"
   ]
  },
  {
   "cell_type": "code",
   "execution_count": null,
   "metadata": {
    "colab": {},
    "colab_type": "code",
    "id": "GkJUFfsgnqr_"
   },
   "outputs": [],
   "source": [
    "import numpy as np\n",
    "from random import random\n",
    "days = np.array((range(28)))\n",
    "stock_quotes = np.array([random() + day * random() for day in days])"
   ]
  },
  {
   "cell_type": "code",
   "execution_count": null,
   "metadata": {
    "colab": {
     "base_uri": "https://localhost:8080/",
     "height": 121
    },
    "colab_type": "code",
    "id": "y-ORgKGNBOcb",
    "outputId": "133809e1-8588-4acb-f07e-20dfefcd03ce"
   },
   "outputs": [],
   "source": [
    "stock_quotes"
   ]
  },
  {
   "cell_type": "markdown",
   "metadata": {
    "colab_type": "text",
    "id": "X3lR2wGvBx3a"
   },
   "source": [
    "Let's take a look with a scatter plot:"
   ]
  },
  {
   "cell_type": "code",
   "execution_count": null,
   "metadata": {
    "colab": {
     "base_uri": "https://localhost:8080/",
     "height": 364
    },
    "colab_type": "code",
    "id": "pVUTC2tmBSIq",
    "outputId": "75664a71-713d-4815-d4cc-2055f485784a"
   },
   "outputs": [],
   "source": [
    "from matplotlib.pyplot import scatter\n",
    "scatter(days, stock_quotes)"
   ]
  },
  {
   "cell_type": "markdown",
   "metadata": {
    "colab_type": "text",
    "id": "hgD4q-T_B0jd"
   },
   "source": [
    "Looks pretty linear, let's try a simple OLS regression.\n",
    "\n",
    "First, these need to be NumPy arrays:"
   ]
  },
  {
   "cell_type": "code",
   "execution_count": null,
   "metadata": {
    "colab": {},
    "colab_type": "code",
    "id": "A3Q0MrnUBXAl"
   },
   "outputs": [],
   "source": [
    "days = days.reshape(-1, 1)  # X needs to be column vectors"
   ]
  },
  {
   "cell_type": "markdown",
   "metadata": {
    "colab_type": "text",
    "id": "vqr0SHOnB5yR"
   },
   "source": [
    "Now let's use good old `scikit-learn` and linear regression:"
   ]
  },
  {
   "cell_type": "code",
   "execution_count": null,
   "metadata": {
    "colab": {
     "base_uri": "https://localhost:8080/",
     "height": 34
    },
    "colab_type": "code",
    "id": "PqyHxgFvBYl5",
    "outputId": "0d4a183e-fdb3-4e97-c8be-ab31a82b07ff"
   },
   "outputs": [],
   "source": [
    "from sklearn.linear_model import LinearRegression\n",
    "ols_stocks = LinearRegression()\n",
    "ols_stocks.fit(days, stock_quotes)\n",
    "ols_stocks.score(days, stock_quotes)"
   ]
  },
  {
   "cell_type": "markdown",
   "metadata": {
    "colab_type": "text",
    "id": "KlU0mr-KB_Yk"
   },
   "source": [
    "That seems to work pretty well, but real stocks don't work like this.\n",
    "\n",
    "Let's make *slightly* more realistic data that depends on more than just time:"
   ]
  },
  {
   "cell_type": "code",
   "execution_count": null,
   "metadata": {
    "colab": {},
    "colab_type": "code",
    "id": "-FV1Emb2BuLz"
   },
   "outputs": [],
   "source": [
    "# Not everything is best as a comprehension\n",
    "stock_data = np.empty([len(days), 4])\n",
    "for day in days:\n",
    "  asset = random()\n",
    "  liability = random()\n",
    "  quote = random() + ((day * random()) + (20 * asset) - (15 * liability))\n",
    "  quote = max(quote, 0.01)  # Want positive quotes\n",
    "  stock_data[day] = np.array([quote, day, asset, liability])"
   ]
  },
  {
   "cell_type": "code",
   "execution_count": null,
   "metadata": {
    "colab": {
     "base_uri": "https://localhost:8080/",
     "height": 503
    },
    "colab_type": "code",
    "id": "6Qe2zzN1CESe",
    "outputId": "5b0cafbf-3a47-40cf-8bc3-38f2dc084e91"
   },
   "outputs": [],
   "source": [
    "stock_data"
   ]
  },
  {
   "cell_type": "markdown",
   "metadata": {
    "colab_type": "text",
    "id": "BzYy4Pb2CLCh"
   },
   "source": [
    "Let's look again:"
   ]
  },
  {
   "cell_type": "code",
   "execution_count": null,
   "metadata": {
    "colab": {
     "base_uri": "https://localhost:8080/",
     "height": 364
    },
    "colab_type": "code",
    "id": "qdBcScz4CIXr",
    "outputId": "ad3ec81f-8fba-4355-d251-630ba5fc333c"
   },
   "outputs": [],
   "source": [
    "stock_quotes = stock_data[:,0]\n",
    "scatter(days, stock_quotes)"
   ]
  },
  {
   "cell_type": "markdown",
   "metadata": {
    "colab_type": "text",
    "id": "SBXb7dieCO5h"
   },
   "source": [
    "How does our old model do?"
   ]
  },
  {
   "cell_type": "code",
   "execution_count": null,
   "metadata": {
    "colab": {
     "base_uri": "https://localhost:8080/",
     "height": 34
    },
    "colab_type": "code",
    "id": "7gAxCgy1COnX",
    "outputId": "ab82d066-952b-4719-e252-f679badb7b91"
   },
   "outputs": [],
   "source": [
    "days = np.array(days).reshape(-1, 1)\n",
    "ols_stocks.fit(days, stock_quotes)\n",
    "ols_stocks.score(days, stock_quotes)"
   ]
  },
  {
   "cell_type": "markdown",
   "metadata": {
    "colab_type": "text",
    "id": "3E94vTFUCax_"
   },
   "source": [
    "Not bad, but can we do better?"
   ]
  },
  {
   "cell_type": "code",
   "execution_count": null,
   "metadata": {
    "colab": {
     "base_uri": "https://localhost:8080/",
     "height": 34
    },
    "colab_type": "code",
    "id": "mCR5GImZCbGz",
    "outputId": "9c0ef176-cb6e-4727-bdab-02f22a663b20"
   },
   "outputs": [],
   "source": [
    "ols_stocks.fit(stock_data[:,1:], stock_quotes)\n",
    "ols_stocks.score(stock_data[:,1:], stock_quotes)"
   ]
  },
  {
   "cell_type": "markdown",
   "metadata": {
    "colab_type": "text",
    "id": "1Qk-jlBCCiKB"
   },
   "source": [
    "Yep - unsurprisingly, the other covariates (assets and liabilities) have info.\n",
    "\n",
    "But, they do worse without the day data."
   ]
  },
  {
   "cell_type": "code",
   "execution_count": null,
   "metadata": {
    "colab": {
     "base_uri": "https://localhost:8080/",
     "height": 34
    },
    "colab_type": "code",
    "id": "dDcZl7I5Cf5D",
    "outputId": "3cbd0a6e-2aa6-4f21-dbb3-66ef266f782b"
   },
   "outputs": [],
   "source": [
    "ols_stocks.fit(stock_data[:,2:], stock_quotes)\n",
    "ols_stocks.score(stock_data[:,2:], stock_quotes)"
   ]
  },
  {
   "cell_type": "markdown",
   "metadata": {
    "colab_type": "text",
    "id": "pnLXlrK8ENjb"
   },
   "source": [
    "## Time series jargon\n",
    "\n",
    "There's a lot of semi-standard language and tricks to talk about this sort of data. [NIST](https://www.itl.nist.gov/div898/handbook/pmc/section4/pmc4.htm) has an excellent guidebook, but here are some highlights:"
   ]
  },
  {
   "cell_type": "markdown",
   "metadata": {
    "colab_type": "text",
    "id": "yWUyhnTbcq55"
   },
   "source": [
    "### Moving average\n",
    "\n",
    "Moving average aka rolling average aka running average.\n",
    "\n",
    "Convert a series of data to a series of averages of continguous subsets:"
   ]
  },
  {
   "cell_type": "code",
   "execution_count": null,
   "metadata": {
    "colab": {
     "base_uri": "https://localhost:8080/",
     "height": 503
    },
    "colab_type": "code",
    "id": "47bHhBSCcvw-",
    "outputId": "ee6bc38c-43d1-4d12-def3-fa409c9dcac4"
   },
   "outputs": [],
   "source": [
    "stock_quotes_rolling = [sum(stock_quotes[i:i+3]) / 3\n",
    "                        for i in range(len(stock_quotes - 2))]\n",
    "stock_quotes_rolling"
   ]
  },
  {
   "cell_type": "markdown",
   "metadata": {
    "colab_type": "text",
    "id": "36XvbGhoc186"
   },
   "source": [
    "Pandas has nice series related functions:"
   ]
  },
  {
   "cell_type": "code",
   "execution_count": null,
   "metadata": {
    "colab": {
     "base_uri": "https://localhost:8080/",
     "height": 928
    },
    "colab_type": "code",
    "id": "nTNatxtycys_",
    "outputId": "65cf7f83-a475-435f-97cc-b0fc72d85f19"
   },
   "outputs": [],
   "source": [
    "import pandas as pd\n",
    "df = pd.DataFrame(stock_quotes)\n",
    "df.rolling(3).mean()"
   ]
  },
  {
   "cell_type": "markdown",
   "metadata": {
    "colab_type": "text",
    "id": "os-szg47dgwf"
   },
   "source": [
    "### Forecasting\n",
    "\n",
    "Forecasting - at it's simplest, it just means \"predict the future\":"
   ]
  },
  {
   "cell_type": "code",
   "execution_count": null,
   "metadata": {
    "colab": {
     "base_uri": "https://localhost:8080/",
     "height": 34
    },
    "colab_type": "code",
    "id": "D_qtt6irdj0x",
    "outputId": "899d4e2b-1c00-4018-c9d5-3451d75a4e99"
   },
   "outputs": [],
   "source": [
    "ols_stocks.fit(stock_data[:,1:], stock_quotes)\n",
    "ols_stocks.predict([[29, 0.5, 0.5]])"
   ]
  },
  {
   "cell_type": "markdown",
   "metadata": {
    "colab_type": "text",
    "id": "fjnQY0trdnHp"
   },
   "source": [
    "One way to predict if you just have the series data is to use the prior observation. This can be pretty good (if you had to pick one feature to model the temperature for tomorrow, the temperature today is a good choice)."
   ]
  },
  {
   "cell_type": "code",
   "execution_count": null,
   "metadata": {
    "colab": {
     "base_uri": "https://localhost:8080/",
     "height": 34
    },
    "colab_type": "code",
    "id": "bzC4DV9Hdupp",
    "outputId": "72adf4bd-a00a-411d-88cb-2f67078ba44c"
   },
   "outputs": [],
   "source": [
    "temperature = np.array([30 + random() * day\n",
    "                        for day in np.array(range(365)).reshape(-1, 1)])\n",
    "temperature_next = temperature[1:].reshape(-1, 1)\n",
    "temperature_ols = LinearRegression()\n",
    "temperature_ols.fit(temperature[:-1], temperature_next)\n",
    "temperature_ols.score(temperature[:-1], temperature_next)"
   ]
  },
  {
   "cell_type": "markdown",
   "metadata": {
    "colab_type": "text",
    "id": "RFdssXQbdxbE"
   },
   "source": [
    "But you can often make it better by considering more than one prior observation."
   ]
  },
  {
   "cell_type": "code",
   "execution_count": null,
   "metadata": {
    "colab": {
     "base_uri": "https://localhost:8080/",
     "height": 34
    },
    "colab_type": "code",
    "id": "pVfUqD2YdxxZ",
    "outputId": "a892c370-bd2b-4e36-ef5d-767e762dacdf"
   },
   "outputs": [],
   "source": [
    "temperature_next_next = temperature[2:].reshape(-1, 1)\n",
    "temperature_two_past = np.concatenate([temperature[:-2], temperature_next[:-1]],\n",
    "                                      axis=1)\n",
    "temperature_ols.fit(temperature_two_past, temperature_next_next)\n",
    "temperature_ols.score(temperature_two_past, temperature_next_next)"
   ]
  },
  {
   "cell_type": "markdown",
   "metadata": {
    "colab_type": "text",
    "id": "c9QltBdmd7TV"
   },
   "source": [
    "### Exponential smoothing\n",
    "\n",
    "Exponential smoothing means using exponentially decreasing past weights to predict the future.\n",
    "\n",
    "You could roll your own, but let's use Pandas."
   ]
  },
  {
   "cell_type": "code",
   "execution_count": null,
   "metadata": {
    "colab": {
     "base_uri": "https://localhost:8080/",
     "height": 1992
    },
    "colab_type": "code",
    "id": "hvMNqunOeC_B",
    "outputId": "e0294de0-3cd8-4935-e730-ee339c191690"
   },
   "outputs": [],
   "source": [
    "temperature_df = pd.DataFrame(temperature)\n",
    "temperature_df.ewm(halflife=7).mean()"
   ]
  },
  {
   "cell_type": "markdown",
   "metadata": {
    "colab_type": "text",
    "id": "gBEjBZVbeH6R"
   },
   "source": [
    "Halflife is among the parameters we can play with:"
   ]
  },
  {
   "cell_type": "code",
   "execution_count": null,
   "metadata": {
    "colab": {
     "base_uri": "https://localhost:8080/",
     "height": 86
    },
    "colab_type": "code",
    "id": "HjZgMwYkeODN",
    "outputId": "806ae8dd-1812-4bbb-8aae-9271676aea45"
   },
   "outputs": [],
   "source": [
    "sse_1 = ((temperature_df - temperature_df.ewm(halflife=7).mean())**2).sum()\n",
    "sse_2 = ((temperature_df - temperature_df.ewm(halflife=3).mean())**2).sum()\n",
    "print(sse_1)\n",
    "print(sse_2)"
   ]
  },
  {
   "cell_type": "markdown",
   "metadata": {
    "colab_type": "text",
    "id": "s39bj4g9eQ9Z"
   },
   "source": [
    "Note - the first error being higher doesn't mean it's necessarily *worse*. It's *smoother* as expected, and if that's what we care about - great!"
   ]
  },
  {
   "cell_type": "markdown",
   "metadata": {
    "colab_type": "text",
    "id": "OcPMn8o4eYP1"
   },
   "source": [
    "### Seasonality\n",
    "\n",
    "Seasonality - \"day of week\"-effects, and more. In a lot of real world data, certain time periods are systemically different, e.g. holidays for retailers, weekends for restaurants, seasons for weather.\n",
    "\n",
    "Let's try to make some seasonal data - a store that sells more later in a week:"
   ]
  },
  {
   "cell_type": "code",
   "execution_count": null,
   "metadata": {
    "colab": {
     "base_uri": "https://localhost:8080/",
     "height": 364
    },
    "colab_type": "code",
    "id": "h0qPMWCreheL",
    "outputId": "f3d7b830-5185-42c4-b4b2-c4ab53c00b09"
   },
   "outputs": [],
   "source": [
    "sales = np.array([random() + (day % 7) * random() for day in days])\n",
    "scatter(days, sales)"
   ]
  },
  {
   "cell_type": "markdown",
   "metadata": {
    "colab_type": "text",
    "id": "LEADkcMzelxY"
   },
   "source": [
    "How does linear regression do at fitting this?"
   ]
  },
  {
   "cell_type": "code",
   "execution_count": null,
   "metadata": {
    "colab": {
     "base_uri": "https://localhost:8080/",
     "height": 34
    },
    "colab_type": "code",
    "id": "EV5kt69GenV3",
    "outputId": "d8cf0f90-2034-42da-f3f5-dff498afaca9"
   },
   "outputs": [],
   "source": [
    "sales_ols = LinearRegression()\n",
    "sales_ols.fit(days, sales)\n",
    "sales_ols.score(days, sales)"
   ]
  },
  {
   "cell_type": "markdown",
   "metadata": {
    "colab_type": "text",
    "id": "7shN1eBMep9Q"
   },
   "source": [
    "That's not great - and the fix depends on the domain. Here, we know it'd be best to actually use \"day of week\" as a feature."
   ]
  },
  {
   "cell_type": "code",
   "execution_count": null,
   "metadata": {
    "colab": {
     "base_uri": "https://localhost:8080/",
     "height": 34
    },
    "colab_type": "code",
    "id": "Qo9eFlHIeqtA",
    "outputId": "b002f32b-8e20-4482-a70d-6ba63db9281b"
   },
   "outputs": [],
   "source": [
    "day_of_week = days % 7\n",
    "sales_ols.fit(day_of_week, sales)\n",
    "sales_ols.score(day_of_week, sales)"
   ]
  },
  {
   "cell_type": "markdown",
   "metadata": {
    "colab_type": "text",
    "id": "9ooJIfIMex2G"
   },
   "source": [
    "Note that it's also important to have representative data across whatever seasonal feature(s) you use - don't predict retailers based only on Christmas, as that won't generalize well."
   ]
  },
  {
   "cell_type": "markdown",
   "metadata": {
    "colab_type": "text",
    "id": "44QZgrPUe3-Y"
   },
   "source": [
    "## Recurrent Neural Networks\n",
    "\n",
    "There's plenty more to \"traditional\" time series, but the latest and greatest technique for sequence data is recurrent neural networks. A recurrence relation in math is an equation that uses recursion to define a sequence - a famous example is the Fibonacci numbers:\n",
    "\n",
    "$F_n = F_{n-1} + F_{n-2}$\n",
    "\n",
    "For formal math you also need a base case $F_0=1, F_1=1$, and then the rest builds from there. But for neural networks what we're really talking about are loops:\n",
    "\n",
    "![Recurrent neural network](https://upload.wikimedia.org/wikipedia/commons/b/b5/Recurrent_neural_network_unfold.svg)\n",
    "\n",
    "The hidden layers have edges (output) going back to their own input - this loop means that for any time `t` the training is at least partly based on the output from time `t-1`. The entire network is being represented on the left, and you can unfold the network explicitly to see how it behaves at any given `t`.\n",
    "\n",
    "Different units can have this \"loop\", but a particularly successful one is the long short-term memory unit (LSTM):\n",
    "\n",
    "![Long short-term memory unit](https://upload.wikimedia.org/wikipedia/commons/thumb/6/63/Long_Short-Term_Memory.svg/1024px-Long_Short-Term_Memory.svg.png)\n",
    "\n",
    "There's a lot going on here - in a nutshell, the calculus still works out and backpropagation can still be implemented. The advantage (ane namesake) of LSTM is that it can generally put more weight on recent (short-term) events while not completely losing older (long-term) information.\n",
    "\n",
    "After enough iterations, a typical neural network will start calculating prior gradients that are so small they effectively become zero - this is the [vanishing gradient problem](https://en.wikipedia.org/wiki/Vanishing_gradient_problem), and is what RNN with LSTM addresses. Pay special attention to the $c_t$ parameters and how they pass through the unit to get an intuition for how this problem is solved.\n",
    "\n",
    "So why are these cool? One particularly compelling application is actually not time series but language modeling - language is inherently ordered data (letters/words go one after another, and the order *matters*). [The Unreasonable Effectiveness of Recurrent Neural Networks](https://karpathy.github.io/2015/05/21/rnn-effectiveness/) is a famous and worth reading blog post on this topic.\n",
    "\n",
    "For our purposes, let's use TensorFlow and Keras to train RNNs with natural language. Resources:\n",
    "\n",
    "- https://github.com/keras-team/keras/blob/master/examples/imdb_lstm.py\n",
    "- https://keras.io/layers/recurrent/#lstm\n",
    "- http://adventuresinmachinelearning.com/keras-lstm-tutorial/\n",
    "\n",
    "Note that `tensorflow.contrib` [also has an implementation of RNN/LSTM](https://www.tensorflow.org/tutorials/sequences/recurrent)."
   ]
  },
  {
   "cell_type": "markdown",
   "metadata": {
    "colab_type": "text",
    "id": "eWrQllf8WEd-"
   },
   "source": [
    "### RNN/LSTM Sentiment Classification with Keras"
   ]
  },
  {
   "cell_type": "code",
   "execution_count": null,
   "metadata": {
    "colab": {
     "base_uri": "https://localhost:8080/",
     "height": 975
    },
    "colab_type": "code",
    "id": "Ti23G0gRe3kr",
    "outputId": "bba9ae40-a286-49ed-d87b-b2946fb60ddf"
   },
   "outputs": [],
   "source": [
    "'''\n",
    "#Trains an LSTM model on the IMDB sentiment classification task.\n",
    "The dataset is actually too small for LSTM to be of any advantage\n",
    "compared to simpler, much faster methods such as TF-IDF + LogReg.\n",
    "**Notes**\n",
    "- RNNs are tricky. Choice of batch size is important,\n",
    "choice of loss and optimizer is critical, etc.\n",
    "Some configurations won't converge.\n",
    "- LSTM loss decrease patterns during training can be quite different\n",
    "from what you see with CNNs/MLPs/etc.\n",
    "'''\n",
    "from __future__ import print_function\n",
    "\n",
    "from keras.preprocessing import sequence\n",
    "from keras.models import Sequential\n",
    "from keras.layers import Dense, Embedding\n",
    "from keras.layers import LSTM\n",
    "from keras.datasets import imdb\n",
    "\n",
    "max_features = 20000\n",
    "# cut texts after this number of words (among top max_features most common words)\n",
    "maxlen = 80\n",
    "batch_size = 32\n",
    "\n",
    "print('Loading data...')\n",
    "(x_train, y_train), (x_test, y_test) = imdb.load_data(num_words=max_features)\n",
    "print(len(x_train), 'train sequences')\n",
    "print(len(x_test), 'test sequences')\n",
    "\n",
    "print('Pad sequences (samples x time)')\n",
    "x_train = sequence.pad_sequences(x_train, maxlen=maxlen)\n",
    "x_test = sequence.pad_sequences(x_test, maxlen=maxlen)\n",
    "print('x_train shape:', x_train.shape)\n",
    "print('x_test shape:', x_test.shape)\n",
    "\n",
    "print('Build model...')\n",
    "model = Sequential()\n",
    "model.add(Embedding(max_features, 128))\n",
    "model.add(LSTM(128, dropout=0.2, recurrent_dropout=0.2))\n",
    "model.add(Dense(1, activation='sigmoid'))\n",
    "\n",
    "# try using different optimizers and different optimizer configs\n",
    "model.compile(loss='binary_crossentropy',\n",
    "              optimizer='adam',\n",
    "              metrics=['accuracy'])\n",
    "\n",
    "print('Train...')\n",
    "model.fit(x_train, y_train,\n",
    "          batch_size=batch_size,\n",
    "          epochs=15,\n",
    "          validation_data=(x_test, y_test))\n",
    "score, acc = model.evaluate(x_test, y_test,\n",
    "                            batch_size=batch_size)\n",
    "print('Test score:', score)\n",
    "print('Test accuracy:', acc)"
   ]
  },
  {
   "cell_type": "markdown",
   "metadata": {
    "colab_type": "text",
    "id": "7pETWPIe362y"
   },
   "source": [
    "### RNN Text generation with NumPy\n",
    "\n",
    "What else can we do with RNN? Since we're analyzing the *sequence*, we can do more than classify - we can *generate* text. We'll pull some news stories using [newspaper](https://github.com/codelucas/newspaper/)."
   ]
  },
  {
   "cell_type": "markdown",
   "metadata": {
    "colab_type": "text",
    "id": "fz1m55G5WSrQ"
   },
   "source": [
    "#### Initialization"
   ]
  },
  {
   "cell_type": "code",
   "execution_count": null,
   "metadata": {
    "colab": {
     "base_uri": "https://localhost:8080/",
     "height": 836
    },
    "colab_type": "code",
    "id": "ahlHBeoZCaLX",
    "outputId": "7b1c5f93-3fa5-42db-acb6-3c894b0accef"
   },
   "outputs": [],
   "source": [
    "!pip install newspaper3k"
   ]
  },
  {
   "cell_type": "code",
   "execution_count": null,
   "metadata": {
    "colab": {},
    "colab_type": "code",
    "id": "fTPlziljCiNJ"
   },
   "outputs": [],
   "source": [
    "import newspaper"
   ]
  },
  {
   "cell_type": "code",
   "execution_count": null,
   "metadata": {
    "colab": {
     "base_uri": "https://localhost:8080/",
     "height": 34
    },
    "colab_type": "code",
    "id": "bk9JF2zaCxoO",
    "outputId": "9e66fc15-a397-4b59-f810-d2182565c99a"
   },
   "outputs": [],
   "source": [
    "ap = newspaper.build('https://www.apnews.com')\n",
    "len(ap.articles)"
   ]
  },
  {
   "cell_type": "code",
   "execution_count": null,
   "metadata": {
    "colab": {
     "base_uri": "https://localhost:8080/",
     "height": 54
    },
    "colab_type": "code",
    "id": "Vc6JgAIJDF4E",
    "outputId": "44a13922-d86a-4668-c4fd-455c0d03b6c1"
   },
   "outputs": [],
   "source": [
    "article_text = ''\n",
    "\n",
    "for article in ap.articles[:1]:\n",
    "  try:\n",
    "    article.download()\n",
    "    article.parse()\n",
    "    article_text += '\\n\\n' + article.text\n",
    "  except:\n",
    "    print('Failed: ' + article.url)\n",
    "  \n",
    "article_text = article_text.split('\\n\\n')[1]\n",
    "print(article_text)"
   ]
  },
  {
   "cell_type": "code",
   "execution_count": null,
   "metadata": {
    "colab": {
     "base_uri": "https://localhost:8080/",
     "height": 52
    },
    "colab_type": "code",
    "id": "rsMBBMcv_nRM",
    "outputId": "9f77b07b-4a5a-4ac8-f1b3-79e1a5331fad"
   },
   "outputs": [],
   "source": [
    "# Based on \"The Unreasonable Effectiveness of RNN\" implementation\n",
    "import numpy as np\n",
    "\n",
    "chars = list(set(article_text)) # split and remove duplicate characters. convert to list.\n",
    "\n",
    "num_chars = len(chars) # the number of unique characters\n",
    "txt_data_size = len(article_text)\n",
    "\n",
    "print(\"unique characters : \", num_chars)\n",
    "print(\"txt_data_size : \", txt_data_size)"
   ]
  },
  {
   "cell_type": "code",
   "execution_count": null,
   "metadata": {
    "colab": {
     "base_uri": "https://localhost:8080/",
     "height": 159
    },
    "colab_type": "code",
    "id": "aQygqc_CAWRA",
    "outputId": "30c45e95-057a-4643-9cae-fc518b49c914"
   },
   "outputs": [],
   "source": [
    "# one hot encode\n",
    "char_to_int = dict((c, i) for i, c in enumerate(chars)) # \"enumerate\" retruns index and value. Convert it to dictionary\n",
    "int_to_char = dict((i, c) for i, c in enumerate(chars))\n",
    "print(char_to_int)\n",
    "print(\"----------------------------------------------------\")\n",
    "print(int_to_char)\n",
    "print(\"----------------------------------------------------\")\n",
    "# integer encode input data\n",
    "integer_encoded = [char_to_int[i] for i in article_text] # \"integer_encoded\" is a list which has a sequence converted from an original data to integers.\n",
    "print(integer_encoded)\n",
    "print(\"----------------------------------------------------\")\n",
    "print(\"data length : \", len(integer_encoded))"
   ]
  },
  {
   "cell_type": "code",
   "execution_count": null,
   "metadata": {
    "colab": {},
    "colab_type": "code",
    "id": "bcpMSWDHFowT"
   },
   "outputs": [],
   "source": [
    "# hyperparameters\n",
    "\n",
    "iteration = 1000\n",
    "sequence_length = 40\n",
    "batch_size = round((txt_data_size /sequence_length)+0.5) # = math.ceil\n",
    "hidden_size = 500  # size of hidden layer of neurons.  \n",
    "learning_rate = 1e-1\n",
    "\n",
    "\n",
    "# model parameters\n",
    "\n",
    "W_xh = np.random.randn(hidden_size, num_chars)*0.01     # weight input -> hidden. \n",
    "W_hh = np.random.randn(hidden_size, hidden_size)*0.01   # weight hidden -> hidden\n",
    "W_hy = np.random.randn(num_chars, hidden_size)*0.01     # weight hidden -> output\n",
    "\n",
    "b_h = np.zeros((hidden_size, 1)) # hidden bias\n",
    "b_y = np.zeros((num_chars, 1)) # output bias\n",
    "\n",
    "h_prev = np.zeros((hidden_size,1)) # h_(t-1)"
   ]
  },
  {
   "cell_type": "markdown",
   "metadata": {
    "colab_type": "text",
    "id": "bkqoN86qWaI4"
   },
   "source": [
    "#### Forward propagation"
   ]
  },
  {
   "cell_type": "code",
   "execution_count": null,
   "metadata": {
    "colab": {},
    "colab_type": "code",
    "id": "imfg_Ew0WdDL"
   },
   "outputs": [],
   "source": [
    "def forwardprop(inputs, targets, h_prev):\n",
    "        \n",
    "    # Since the RNN receives the sequence, the weights are not updated during one sequence.\n",
    "    xs, hs, ys, ps = {}, {}, {}, {} # dictionary\n",
    "    hs[-1] = np.copy(h_prev) # Copy previous hidden state vector to -1 key value.\n",
    "    loss = 0 # loss initialization\n",
    "    \n",
    "    for t in range(len(inputs)): # t is a \"time step\" and is used as a key(dic).  \n",
    "        \n",
    "        xs[t] = np.zeros((num_chars,1)) \n",
    "        xs[t][inputs[t]] = 1\n",
    "        hs[t] = np.tanh(np.dot(W_xh, xs[t]) + np.dot(W_hh, hs[t-1]) + b_h) # hidden state. \n",
    "        ys[t] = np.dot(W_hy, hs[t]) + b_y # unnormalized log probabilities for next chars\n",
    "        ps[t] = np.exp(ys[t]) / np.sum(np.exp(ys[t])) # probabilities for next chars. \n",
    "        # Softmax. -> The sum of probabilities is 1 even without the exp() function, but all of the elements are positive through the exp() function.\n",
    " \n",
    "        loss += -np.log(ps[t][targets[t],0]) # softmax (cross-entropy loss). Efficient and simple code\n",
    "\n",
    "#         y_class = np.zeros((num_chars, 1)) \n",
    "#         y_class[targets[t]] =1\n",
    "#         loss += np.sum(y_class*(-np.log(ps[t]))) # softmax (cross-entropy loss)        \n",
    "\n",
    "    return loss, ps, hs, xs"
   ]
  },
  {
   "cell_type": "markdown",
   "metadata": {
    "colab_type": "text",
    "id": "zm6qwNiqWdMe"
   },
   "source": [
    "#### Backward propagation"
   ]
  },
  {
   "cell_type": "code",
   "execution_count": null,
   "metadata": {
    "colab": {},
    "colab_type": "code",
    "id": "81qBiz_xWenI"
   },
   "outputs": [],
   "source": [
    "def backprop(ps, inputs, hs, xs):\n",
    "\n",
    "    dWxh, dWhh, dWhy = np.zeros_like(W_xh), np.zeros_like(W_hh), np.zeros_like(W_hy) # make all zero matrices.\n",
    "    dbh, dby = np.zeros_like(b_h), np.zeros_like(b_y)\n",
    "    dhnext = np.zeros_like(hs[0]) # (hidden_size,1) \n",
    "\n",
    "    # reversed\n",
    "    for t in reversed(range(len(inputs))):\n",
    "        dy = np.copy(ps[t]) # shape (num_chars,1).  \"dy\" means \"dloss/dy\"\n",
    "        dy[targets[t]] -= 1 # backprop into y. After taking the soft max in the input vector, subtract 1 from the value of the element corresponding to the correct label.\n",
    "        dWhy += np.dot(dy, hs[t].T)\n",
    "        dby += dy \n",
    "        dh = np.dot(W_hy.T, dy) + dhnext # backprop into h. \n",
    "        dhraw = (1 - hs[t] * hs[t]) * dh # backprop through tanh nonlinearity #tanh'(x) = 1-tanh^2(x)\n",
    "        dbh += dhraw\n",
    "        dWxh += np.dot(dhraw, xs[t].T)\n",
    "        dWhh += np.dot(dhraw, hs[t-1].T)\n",
    "        dhnext = np.dot(W_hh.T, dhraw)\n",
    "    for dparam in [dWxh, dWhh, dWhy, dbh, dby]: \n",
    "        np.clip(dparam, -5, 5, out=dparam) # clip to mitigate exploding gradients.  \n",
    "    \n",
    "    return dWxh, dWhh, dWhy, dbh, dby"
   ]
  },
  {
   "cell_type": "markdown",
   "metadata": {
    "colab_type": "text",
    "id": "r8sBvcdbWfhi"
   },
   "source": [
    "#### Training"
   ]
  },
  {
   "cell_type": "code",
   "execution_count": null,
   "metadata": {
    "colab": {
     "base_uri": "https://localhost:8080/",
     "height": 225
    },
    "colab_type": "code",
    "id": "iA4RM70LWgO_",
    "outputId": "0fd64bca-f1b5-4be1-9e80-076308365598"
   },
   "outputs": [],
   "source": [
    "%%time\n",
    "\n",
    "data_pointer = 0\n",
    "\n",
    "# memory variables for Adagrad\n",
    "mWxh, mWhh, mWhy = np.zeros_like(W_xh), np.zeros_like(W_hh), np.zeros_like(W_hy)\n",
    "mbh, mby = np.zeros_like(b_h), np.zeros_like(b_y) \n",
    "\n",
    "for i in range(iteration):\n",
    "    h_prev = np.zeros((hidden_size,1)) # reset RNN memory\n",
    "    data_pointer = 0 # go from start of data\n",
    "    \n",
    "    for b in range(batch_size):\n",
    "        \n",
    "        inputs = [char_to_int[ch] for ch in article_text[data_pointer:data_pointer+sequence_length]]\n",
    "        targets = [char_to_int[ch] for ch in article_text[data_pointer+1:data_pointer+sequence_length+1]] # t+1        \n",
    "            \n",
    "        if (data_pointer+sequence_length+1 >= len(article_text) and b == batch_size-1): # processing of the last part of the input data. \n",
    "#             targets.append(char_to_int[txt_data[0]])   # When the data doesn't fit, add the first char to the back.\n",
    "            targets.append(char_to_int[\" \"])   # When the data doesn't fit, add space(\" \") to the back.\n",
    "\n",
    "\n",
    "        # forward\n",
    "        loss, ps, hs, xs = forwardprop(inputs, targets, h_prev)\n",
    "#         print(loss)\n",
    "    \n",
    "        # backward\n",
    "        dWxh, dWhh, dWhy, dbh, dby = backprop(ps, inputs, hs, xs) \n",
    "        \n",
    "        \n",
    "    # perform parameter update with Adagrad\n",
    "        for param, dparam, mem in zip([W_xh, W_hh, W_hy, b_h, b_y], \n",
    "                                    [dWxh, dWhh, dWhy, dbh, dby], \n",
    "                                    [mWxh, mWhh, mWhy, mbh, mby]):\n",
    "            mem += dparam * dparam # elementwise\n",
    "            param += -learning_rate * dparam / np.sqrt(mem + 1e-8) # adagrad update      \n",
    "    \n",
    "        data_pointer += sequence_length # move data pointer\n",
    "        \n",
    "    if i % 100 == 0:\n",
    "        print ('iter %d, loss: %f' % (i, loss)) # print progress"
   ]
  },
  {
   "cell_type": "markdown",
   "metadata": {
    "colab_type": "text",
    "id": "tjh8Ip68WgYV"
   },
   "source": [
    "#### Prediction"
   ]
  },
  {
   "cell_type": "code",
   "execution_count": null,
   "metadata": {
    "colab": {},
    "colab_type": "code",
    "id": "HDCxDNPG68Hx"
   },
   "outputs": [],
   "source": [
    "def predict(test_char, length):\n",
    "    x = np.zeros((num_chars, 1)) \n",
    "    x[char_to_int[test_char]] = 1\n",
    "    ixes = []\n",
    "    h = np.zeros((hidden_size,1))\n",
    "\n",
    "    for t in range(length):\n",
    "        h = np.tanh(np.dot(W_xh, x) + np.dot(W_hh, h) + b_h) \n",
    "        y = np.dot(W_hy, h) + b_y\n",
    "        p = np.exp(y) / np.sum(np.exp(y)) \n",
    "        ix = np.random.choice(range(num_chars), p=p.ravel()) # ravel -> rank0\n",
    "        # \"ix\" is a list of indexes selected according to the soft max probability.\n",
    "        x = np.zeros((num_chars, 1)) # init\n",
    "        x[ix] = 1 \n",
    "        ixes.append(ix) # list\n",
    "    txt = test_char + ''.join(int_to_char[i] for i in ixes)\n",
    "    print ('----\\n %s \\n----' % (txt, ))"
   ]
  },
  {
   "cell_type": "code",
   "execution_count": null,
   "metadata": {
    "colab": {
     "base_uri": "https://localhost:8080/",
     "height": 69
    },
    "colab_type": "code",
    "id": "nGVhl-Gxh6N6",
    "outputId": "e0c8b70b-fb50-4000-f4f8-a572539513db"
   },
   "outputs": [],
   "source": [
    "predict('C', 50)"
   ]
  },
  {
   "cell_type": "markdown",
   "metadata": {
    "colab_type": "text",
    "id": "xPsz-oefL1kP"
   },
   "source": [
    "Well... that's *vaguely* language-looking. Can you do better?"
   ]
  },
  {
   "cell_type": "markdown",
   "metadata": {
    "colab_type": "text",
    "id": "0lfZdD_cp1t5"
   },
   "source": [
    "# Assignment\n",
    "\n",
    "![Monkey at a typewriter](https://upload.wikimedia.org/wikipedia/commons/thumb/3/3c/Chimpanzee_seated_at_typewriter.jpg/603px-Chimpanzee_seated_at_typewriter.jpg)\n",
    "\n",
    "It is said that [infinite monkeys typing for an infinite amount of time](https://en.wikipedia.org/wiki/Infinite_monkey_theorem) will eventually type, among other things, the complete works of Wiliam Shakespeare. Let's see if we can get there a bit faster, with the power of Recurrent Neural Networks and LSTM.\n",
    "\n",
    "This text file contains the complete works of Shakespeare: https://www.gutenberg.org/files/100/100-0.txt\n",
    "\n",
    "Use it as training data for an RNN - you can keep it simple and train character level, and that is suggested as an initial approach.\n",
    "\n",
    "Then, use that trained RNN to generate Shakespearean-ish text. Your goal - a function that can take, as an argument, the size of text (e.g. number of characters or lines) to generate, and returns generated text of that size.\n",
    "\n",
    "Note - Shakespeare wrote an awful lot. It's OK, especially initially, to sample/use smaller data and parameters, so you can have a tighter feedback loop when you're trying to get things running. Then, once you've got a proof of concept - start pushing it more!"
   ]
  },
  {
   "cell_type": "code",
   "execution_count": 1,
   "metadata": {},
   "outputs": [],
   "source": [
    "import requests\n",
    "import numpy as np\n",
    "r = requests.get('https://www.gutenberg.org/files/100/100-0.txt')"
   ]
  },
  {
   "cell_type": "code",
   "execution_count": 39,
   "metadata": {},
   "outputs": [
    {
     "data": {
      "text/plain": [
       "'    1\\r\\n\\r\\nFrom fairest creatures we desire increase,\\r\\nThat thereby beauty’s rose might never die,\\r\\nBut as the riper should by time decease,\\r\\nHis tender heir might bear his memory:\\r\\nBut thou contracted to thine own bright eyes,\\r\\nFeed’st thy light’s flame with self-substantial fuel,\\r\\nMaking a famine where abundance lies,\\r\\nThy self thy foe, to thy sweet self too cruel:\\r\\nThou that art now the world’s fresh ornament,\\r\\nAnd only herald to the gaudy spring,\\r\\nWithin thine own bud buriest thy content,\\r\\nAnd, tender churl, mak’st waste in niggarding:\\r\\n  Pity the world, or else this glutton be,\\r\\n  To eat the world’s due, by the grave and thee.\\r\\n\\r\\n\\r\\n                    2\\r\\n\\r\\nWhen forty winters shall besiege thy brow,\\r\\nAnd dig deep trenches in thy beauty’s field,\\r\\nThy youth’s proud livery so gazed on now,\\r\\nWill be a tattered weed of small worth held:\\r\\nThen being asked, where all thy beauty lies,\\r\\nWhere all the treasure of thy lusty days;\\r\\nTo say, within thine own deep sunken eyes,\\r\\nWere an all-eating shame, and thriftless praise.\\r\\nHow much more praise deserv’d thy beauty’s use,\\r\\nIf thou couldst answer ‘This fair child of mine\\r\\nShall sum my count, and make my old excuse,’\\r\\nProving his beauty by succession thine.\\r\\n  This were to be new made when thou art old,\\r\\n  And see thy blood warm when thou feel’st it cold.\\r\\n\\r\\n\\r\\n                    3\\r\\n\\r\\nLook in thy glass and tell the face thou viewest,\\r\\nNow is the time that face should form another,\\r\\nWhose fresh repair if now thou not renewest,\\r\\nThou dost beguile the world, unbless some mother.\\r\\nFor where is she so fair whose uneared womb\\r\\nDisdains the tillage of thy husbandry?\\r\\nOr who is he so fond will be the tomb\\r\\nOf his self-love to stop posterity?\\r\\nThou art thy mother’s glass and she in thee\\r\\nCalls back the lovely April of her prime,\\r\\nSo thou through windows of thine age shalt see,\\r\\nDespite of wrinkles this thy golden time.\\r\\n  But if thou live remembered not to be,\\r\\n  Die single and thine image dies with thee.\\r\\n\\r\\n\\r\\n                    4\\r\\n\\r\\nUnthrifty loveliness why dost thou spend,\\r\\nUpon thy self thy beauty’s legacy?\\r\\nNature’s bequest gives nothing but doth lend,\\r\\nAnd being frank she lends to those are free:\\r\\nThen beauteous niggard why dost thou abuse,\\r\\nThe bounteous largess given thee to give?\\r\\nProfitless usurer why dost thou use\\r\\nSo great a sum of sums yet canst not live?\\r\\nFor having traffic with thy self alone,\\r\\nThou of thy self thy sweet self dost deceive,\\r\\nThen how when nature calls thee to be gone,\\r\\nWhat acceptable audit canst thou leave?\\r\\n  Thy unused beauty must be tombed with thee,\\r\\n  Which used lives th’ executor to be.\\r\\n\\r\\n\\r\\n                    5\\r\\n\\r\\nThose hours that with gentle work did frame\\r\\nThe lovely gaze where every eye doth dwell\\r\\nWill play the tyrants to the very same,\\r\\nAnd that unfair which fairly doth excel:\\r\\nFor never-resting time leads summer on\\r\\nTo hideous winter and confounds him there,\\r\\nSap checked with frost and lusty leaves quite gone,\\r\\nBeauty o’er-snowed and bareness every where:\\r\\nThen were not summer’s distillation left\\r\\nA liquid prisoner pent in walls of glass,\\r\\nBeauty’s effect with beauty were bereft,\\r\\nNor it nor no remembrance what it was.\\r\\n  But flowers distilled though they with winter meet,\\r\\n  Leese but their show, their substance still lives sweet.\\r\\n\\r\\n\\r\\n                    6\\r\\n\\r\\nThen let not winter’s ragged hand deface,\\r\\nIn thee thy summer ere thou be distilled:\\r\\nMake sweet some vial; treasure thou some place,\\r\\nWith beauty’s treasure ere it be self-killed:\\r\\nThat use is not forbidden usury,\\r\\nWhich happies those that pay the willing loan;\\r\\nThat’s for thy self to breed another thee,\\r\\nOr ten times happier be it ten for one,\\r\\nTen times thy self were happier than thou art,\\r\\nIf ten of thine ten times refigured thee:\\r\\nThen what could death do if thou shouldst depart,\\r\\nLeaving thee living in posterity?\\r\\n  Be not self-willed for thou art much too fair,\\r\\n  To be death’s conquest and make worms thine heir.\\r\\n\\r\\n\\r\\n                    7\\r\\n\\r\\nLo in the orient when the gracious light\\r\\nLifts up his burning head, each under eye\\r\\nDoth homage to his new-appearing sight,\\r\\nServing with looks his sacred majesty,\\r\\nAnd having climbed the steep-up heavenly hill,\\r\\nResembling strong youth in his middle age,\\r\\nYet mortal looks adore his beauty still,\\r\\nAttending on his golden pilgrimage:\\r\\nBut when from highmost pitch with weary car,\\r\\nLike feeble age he reeleth from the day,\\r\\nThe eyes (fore duteous) now converted are\\r\\nFrom his low tract and look another way:\\r\\n  So thou, thy self out-going in thy noon:\\r\\n  Unlooked on diest unless thou get a son.\\r\\n\\r\\n\\r\\n                    8\\r\\n\\r\\nMusic to hear, why hear’st thou music sadly?\\r\\nSweets with sweets war not, joy delights in joy:\\r\\nWhy lov’st thou that which thou receiv’st not gladly,\\r\\nOr else receiv’st with pleasure thine annoy?\\r\\nIf the true concord of well-tuned sounds,\\r\\nBy unions married do offend thine ear,\\r\\nThey do but sweetly chide thee, who confounds\\r\\nIn singleness the parts that thou shouldst bear:\\r\\nMark how one string sweet husband to anothe'"
      ]
     },
     "execution_count": 39,
     "metadata": {},
     "output_type": "execute_result"
    }
   ],
   "source": [
    "# After some Project Gutenberg preamble, the works begin around character 1500\n",
    "complete_works = r.text[3000:]\n",
    "# First I'll use a smaller subset of the complete works\n",
    "article_text = complete_works[:5000]\n",
    "article_text"
   ]
  },
  {
   "cell_type": "code",
   "execution_count": 40,
   "metadata": {},
   "outputs": [
    {
     "name": "stdout",
     "output_type": "stream",
     "text": [
      "unique characters :  65\n",
      "txt_data_size :  5000\n",
      "All characters: \n",
      " ['Y', 'W', '\\n', 'w', '?', '2', 'z', '-', ' ', 'b', 'T', 'P', '.', 'C', 'R', '(', '8', 'A', 'O', 'M', 'g', ')', '\\r', 'e', 'i', '5', 'o', 'h', ',', 'u', 'm', 't', '4', ':', 'x', 'L', 'D', 'l', 'c', '’', 'j', 'r', 'H', 'd', 'a', 'F', 'v', 'k', ';', 'U', 'S', 'q', 'f', '7', 'n', 'B', 's', '‘', '3', 'p', '1', '6', 'N', 'y', 'I']\n"
     ]
    }
   ],
   "source": [
    "chars = list(set(article_text)) # split and remove duplicate characters. convert to list.\n",
    "num_chars = len(chars) # the number of unique characters\n",
    "txt_data_size = len(article_text)\n",
    "\n",
    "print(\"unique characters : \", num_chars)\n",
    "print(\"txt_data_size : \", txt_data_size)\n",
    "print('All characters: \\n', [x for x in chars])"
   ]
  },
  {
   "cell_type": "code",
   "execution_count": 41,
   "metadata": {},
   "outputs": [
    {
     "name": "stdout",
     "output_type": "stream",
     "text": [
      "{'Y': 0, 'W': 1, '\\n': 2, 'w': 3, '?': 4, '2': 5, 'z': 6, '-': 7, ' ': 8, 'b': 9, 'T': 10, 'P': 11, '.': 12, 'C': 13, 'R': 14, '(': 15, '8': 16, 'A': 17, 'O': 18, 'M': 19, 'g': 20, ')': 21, '\\r': 22, 'e': 23, 'i': 24, '5': 25, 'o': 26, 'h': 27, ',': 28, 'u': 29, 'm': 30, 't': 31, '4': 32, ':': 33, 'x': 34, 'L': 35, 'D': 36, 'l': 37, 'c': 38, '’': 39, 'j': 40, 'r': 41, 'H': 42, 'd': 43, 'a': 44, 'F': 45, 'v': 46, 'k': 47, ';': 48, 'U': 49, 'S': 50, 'q': 51, 'f': 52, '7': 53, 'n': 54, 'B': 55, 's': 56, '‘': 57, '3': 58, 'p': 59, '1': 60, '6': 61, 'N': 62, 'y': 63, 'I': 64}\n",
      "----------------------------------------------------\n",
      "{0: 'Y', 1: 'W', 2: '\\n', 3: 'w', 4: '?', 5: '2', 6: 'z', 7: '-', 8: ' ', 9: 'b', 10: 'T', 11: 'P', 12: '.', 13: 'C', 14: 'R', 15: '(', 16: '8', 17: 'A', 18: 'O', 19: 'M', 20: 'g', 21: ')', 22: '\\r', 23: 'e', 24: 'i', 25: '5', 26: 'o', 27: 'h', 28: ',', 29: 'u', 30: 'm', 31: 't', 32: '4', 33: ':', 34: 'x', 35: 'L', 36: 'D', 37: 'l', 38: 'c', 39: '’', 40: 'j', 41: 'r', 42: 'H', 43: 'd', 44: 'a', 45: 'F', 46: 'v', 47: 'k', 48: ';', 49: 'U', 50: 'S', 51: 'q', 52: 'f', 53: '7', 54: 'n', 55: 'B', 56: 's', 57: '‘', 58: '3', 59: 'p', 60: '1', 61: '6', 62: 'N', 63: 'y', 64: 'I'}\n",
      "----------------------------------------------------\n"
     ]
    }
   ],
   "source": [
    "# integer-encode\n",
    "char_to_int = dict((c, i) for i, c in enumerate(chars)) # \"enumerate\" retruns index and value. Convert it to dictionary\n",
    "int_to_char = dict((i, c) for i, c in enumerate(chars))\n",
    "print(char_to_int)\n",
    "print(\"----------------------------------------------------\")\n",
    "print(int_to_char)\n",
    "print(\"----------------------------------------------------\")"
   ]
  },
  {
   "cell_type": "code",
   "execution_count": 48,
   "metadata": {
    "colab": {},
    "colab_type": "code",
    "id": "bcpMSWDHFowT"
   },
   "outputs": [],
   "source": [
    "# hyperparameters\n",
    "\n",
    "iteration = 1000\n",
    "sequence_length = 30\n",
    "batch_size = round((txt_data_size /sequence_length)+0.5) # = math.ceil\n",
    "hidden_size = 100  # size of hidden layer of neurons.  \n",
    "learning_rate = 1e-1\n",
    "\n",
    "\n",
    "# model parameters\n",
    "\n",
    "W_xh = np.random.randn(hidden_size, num_chars)*0.01     # weight input -> hidden. \n",
    "W_hh = np.random.randn(hidden_size, hidden_size)*0.01   # weight hidden -> hidden\n",
    "W_hy = np.random.randn(num_chars, hidden_size)*0.01     # weight hidden -> output\n",
    "\n",
    "b_h = np.zeros((hidden_size, 1)) # hidden bias\n",
    "b_y = np.zeros((num_chars, 1)) # output bias\n",
    "\n",
    "h_prev = np.zeros((hidden_size,1)) # h_(t-1)"
   ]
  },
  {
   "cell_type": "markdown",
   "metadata": {
    "colab_type": "text",
    "id": "bkqoN86qWaI4"
   },
   "source": [
    "#### Forward propagation"
   ]
  },
  {
   "cell_type": "code",
   "execution_count": 49,
   "metadata": {
    "colab": {},
    "colab_type": "code",
    "id": "imfg_Ew0WdDL"
   },
   "outputs": [],
   "source": [
    "def forwardprop(inputs, targets, h_prev):\n",
    "        \n",
    "    # Since the RNN receives the sequence, the weights are not updated during one sequence.\n",
    "    xs, hs, ys, ps = {}, {}, {}, {} # dictionary\n",
    "    hs[-1] = np.copy(h_prev) # Copy previous hidden state vector to -1 key value.\n",
    "    loss = 0 # loss initialization\n",
    "    \n",
    "    for t in range(len(inputs)): # t is a \"time step\" and is used as a key(dic).  \n",
    "        \n",
    "        xs[t] = np.zeros((num_chars,1)) \n",
    "        xs[t][inputs[t]] = 1\n",
    "        hs[t] = np.tanh(np.dot(W_xh, xs[t]) + np.dot(W_hh, hs[t-1]) + b_h) # hidden state. \n",
    "        ys[t] = np.dot(W_hy, hs[t]) + b_y # unnormalized log probabilities for next chars\n",
    "        ps[t] = np.exp(ys[t]) / np.sum(np.exp(ys[t])) # probabilities for next chars. \n",
    "        # Softmax. -> The sum of probabilities is 1 even without the exp() function, but all of the elements are positive through the exp() function.\n",
    " \n",
    "        loss += -np.log(ps[t][targets[t],0]) # softmax (cross-entropy loss). Efficient and simple code\n",
    "\n",
    "#         y_class = np.zeros((num_chars, 1)) \n",
    "#         y_class[targets[t]] =1\n",
    "#         loss += np.sum(y_class*(-np.log(ps[t]))) # softmax (cross-entropy loss)        \n",
    "\n",
    "    return loss, ps, hs, xs"
   ]
  },
  {
   "cell_type": "markdown",
   "metadata": {
    "colab_type": "text",
    "id": "zm6qwNiqWdMe"
   },
   "source": [
    "#### Backward propagation"
   ]
  },
  {
   "cell_type": "code",
   "execution_count": 50,
   "metadata": {
    "colab": {},
    "colab_type": "code",
    "id": "81qBiz_xWenI"
   },
   "outputs": [],
   "source": [
    "def backprop(ps, inputs, hs, xs):\n",
    "\n",
    "    dWxh, dWhh, dWhy = np.zeros_like(W_xh), np.zeros_like(W_hh), np.zeros_like(W_hy) # make all zero matrices.\n",
    "    dbh, dby = np.zeros_like(b_h), np.zeros_like(b_y)\n",
    "    dhnext = np.zeros_like(hs[0]) # (hidden_size,1) \n",
    "\n",
    "    # reversed\n",
    "    for t in reversed(range(len(inputs))):\n",
    "        dy = np.copy(ps[t]) # shape (num_chars,1).  \"dy\" means \"dloss/dy\"\n",
    "        dy[targets[t]] -= 1 # backprop into y. After taking the soft max in the input vector, subtract 1 from the value of the element corresponding to the correct label.\n",
    "        dWhy += np.dot(dy, hs[t].T)\n",
    "        dby += dy \n",
    "        dh = np.dot(W_hy.T, dy) + dhnext # backprop into h. \n",
    "        dhraw = (1 - hs[t] * hs[t]) * dh # backprop through tanh nonlinearity #tanh'(x) = 1-tanh^2(x)\n",
    "        dbh += dhraw\n",
    "        dWxh += np.dot(dhraw, xs[t].T)\n",
    "        dWhh += np.dot(dhraw, hs[t-1].T)\n",
    "        dhnext = np.dot(W_hh.T, dhraw)\n",
    "    for dparam in [dWxh, dWhh, dWhy, dbh, dby]: \n",
    "        np.clip(dparam, -5, 5, out=dparam) # clip to mitigate exploding gradients.  \n",
    "    \n",
    "    return dWxh, dWhh, dWhy, dbh, dby"
   ]
  },
  {
   "cell_type": "markdown",
   "metadata": {
    "colab_type": "text",
    "id": "r8sBvcdbWfhi"
   },
   "source": [
    "#### Training"
   ]
  },
  {
   "cell_type": "code",
   "execution_count": 51,
   "metadata": {
    "colab": {
     "base_uri": "https://localhost:8080/",
     "height": 225
    },
    "colab_type": "code",
    "id": "iA4RM70LWgO_",
    "outputId": "0fd64bca-f1b5-4be1-9e80-076308365598",
    "scrolled": true
   },
   "outputs": [
    {
     "name": "stdout",
     "output_type": "stream",
     "text": [
      "iter 0, loss: 58.694502\n",
      "iter 1, loss: 54.837541\n",
      "iter 2, loss: 52.414927\n",
      "iter 3, loss: 49.709022\n",
      "iter 4, loss: 48.321355\n",
      "iter 5, loss: 47.105824\n",
      "iter 6, loss: 46.794902\n",
      "iter 7, loss: 47.737412\n",
      "iter 8, loss: 47.810749\n",
      "iter 9, loss: 47.942249\n",
      "iter 10, loss: 47.991144\n",
      "iter 11, loss: 46.320710\n",
      "iter 12, loss: 47.265397\n",
      "iter 13, loss: 48.227031\n",
      "iter 14, loss: 47.020784\n",
      "iter 15, loss: 46.132635\n",
      "iter 16, loss: 46.121071\n",
      "iter 17, loss: 45.061938\n",
      "iter 18, loss: 44.102828\n",
      "iter 19, loss: 45.548432\n",
      "iter 20, loss: 44.243834\n",
      "iter 21, loss: 48.819051\n",
      "iter 22, loss: 44.977253\n",
      "iter 23, loss: 46.642864\n",
      "iter 24, loss: 44.122657\n",
      "iter 25, loss: 43.779011\n",
      "iter 26, loss: 43.097158\n",
      "iter 27, loss: 41.758178\n",
      "iter 28, loss: 40.810566\n",
      "iter 29, loss: 41.167900\n",
      "iter 30, loss: 39.294374\n",
      "iter 31, loss: 38.990335\n",
      "iter 32, loss: 40.246008\n",
      "iter 33, loss: 38.923407\n",
      "iter 34, loss: 36.672829\n",
      "iter 35, loss: 35.957794\n",
      "iter 36, loss: 35.725818\n",
      "iter 37, loss: 35.223541\n",
      "iter 38, loss: 35.121614\n",
      "iter 39, loss: 34.703257\n",
      "iter 40, loss: 35.793446\n",
      "iter 41, loss: 33.651365\n",
      "iter 42, loss: 35.980168\n",
      "iter 43, loss: 34.577454\n",
      "iter 44, loss: 33.951898\n",
      "iter 45, loss: 32.954244\n",
      "iter 46, loss: 35.688344\n",
      "iter 47, loss: 33.164727\n",
      "iter 48, loss: 32.569753\n",
      "iter 49, loss: 32.695715\n",
      "iter 50, loss: 32.392951\n",
      "iter 51, loss: 35.562273\n",
      "iter 52, loss: 32.308232\n",
      "iter 53, loss: 33.395608\n",
      "iter 54, loss: 31.944609\n",
      "iter 55, loss: 37.742861\n",
      "iter 56, loss: 31.134565\n",
      "iter 57, loss: 31.338085\n",
      "iter 58, loss: 31.316284\n",
      "iter 59, loss: 30.480035\n",
      "iter 60, loss: 32.488736\n",
      "iter 61, loss: 36.328872\n",
      "iter 62, loss: 30.190188\n",
      "iter 63, loss: 32.211893\n",
      "iter 64, loss: 34.495598\n",
      "iter 65, loss: 30.561803\n",
      "iter 66, loss: 29.468188\n",
      "iter 67, loss: 30.032695\n",
      "iter 68, loss: 29.675479\n",
      "iter 69, loss: 27.409403\n",
      "iter 70, loss: 26.783839\n",
      "iter 71, loss: 30.534437\n",
      "iter 72, loss: 29.663437\n",
      "iter 73, loss: 27.262233\n",
      "iter 74, loss: 29.127873\n",
      "iter 75, loss: 26.961181\n",
      "iter 76, loss: 29.014197\n",
      "iter 77, loss: 26.066165\n",
      "iter 78, loss: 29.058068\n",
      "iter 79, loss: 27.347429\n",
      "iter 80, loss: 26.840650\n",
      "iter 81, loss: 26.132613\n",
      "iter 82, loss: 26.643619\n",
      "iter 83, loss: 28.204879\n",
      "iter 84, loss: 33.904282\n",
      "iter 85, loss: 25.380577\n",
      "iter 86, loss: 29.763781\n",
      "iter 87, loss: 28.863540\n",
      "iter 88, loss: 25.985830\n",
      "iter 89, loss: 26.754235\n",
      "iter 90, loss: 30.321837\n",
      "iter 91, loss: 26.958877\n",
      "iter 92, loss: 27.615341\n",
      "iter 93, loss: 26.873833\n",
      "iter 94, loss: 29.412117\n",
      "iter 95, loss: 27.894664\n",
      "iter 96, loss: 27.747401\n",
      "iter 97, loss: 25.640320\n",
      "iter 98, loss: 26.428834\n",
      "iter 99, loss: 24.247546\n",
      "iter 100, loss: 27.313713\n",
      "iter 101, loss: 25.135644\n",
      "iter 102, loss: 26.948950\n",
      "iter 103, loss: 26.150620\n",
      "iter 104, loss: 26.803730\n",
      "iter 105, loss: 26.395676\n",
      "iter 106, loss: 26.401436\n",
      "iter 107, loss: 25.314866\n",
      "iter 108, loss: 26.774141\n",
      "iter 109, loss: 25.920918\n",
      "iter 110, loss: 24.694389\n",
      "iter 111, loss: 24.557329\n",
      "iter 112, loss: 26.681578\n",
      "iter 113, loss: 24.807734\n",
      "iter 114, loss: 22.653394\n",
      "iter 115, loss: 25.720806\n",
      "iter 116, loss: 25.020514\n",
      "iter 117, loss: 22.935273\n",
      "iter 118, loss: 22.464046\n",
      "iter 119, loss: 21.798340\n",
      "iter 120, loss: 24.246211\n",
      "iter 121, loss: 25.926790\n",
      "iter 122, loss: 26.277377\n",
      "iter 123, loss: 22.809543\n",
      "iter 124, loss: 22.252791\n",
      "iter 125, loss: 23.065651\n",
      "iter 126, loss: 24.847697\n",
      "iter 127, loss: 24.266587\n",
      "iter 128, loss: 27.307919\n",
      "iter 129, loss: 22.616503\n",
      "iter 130, loss: 23.612555\n",
      "iter 131, loss: 24.671016\n",
      "iter 132, loss: 23.677654\n",
      "iter 133, loss: 22.171583\n",
      "iter 134, loss: 24.104185\n",
      "iter 135, loss: 23.689478\n",
      "iter 136, loss: 23.054932\n",
      "iter 137, loss: 22.389853\n",
      "iter 138, loss: 21.587643\n",
      "iter 139, loss: 25.780428\n",
      "iter 140, loss: 22.073572\n",
      "iter 141, loss: 21.362445\n",
      "iter 142, loss: 27.334649\n",
      "iter 143, loss: 21.065684\n",
      "iter 144, loss: 21.348840\n",
      "iter 145, loss: 23.666016\n",
      "iter 146, loss: 23.710478\n",
      "iter 147, loss: 20.281826\n",
      "iter 148, loss: 22.584296\n",
      "iter 149, loss: 21.357830\n",
      "iter 150, loss: 23.295378\n",
      "iter 151, loss: 20.893370\n",
      "iter 152, loss: 22.333654\n",
      "iter 153, loss: 22.296729\n",
      "iter 154, loss: 22.952907\n",
      "iter 155, loss: 23.880737\n",
      "iter 156, loss: 20.218527\n",
      "iter 157, loss: 22.368414\n",
      "iter 158, loss: 22.479732\n",
      "iter 159, loss: 19.273292\n",
      "iter 160, loss: 19.103291\n",
      "iter 161, loss: 26.039252\n",
      "iter 162, loss: 19.037189\n",
      "iter 163, loss: 19.625199\n",
      "iter 164, loss: 19.617244\n",
      "iter 165, loss: 21.135134\n",
      "iter 166, loss: 20.680736\n",
      "iter 167, loss: 18.734683\n",
      "iter 168, loss: 20.438792\n",
      "iter 169, loss: 30.635925\n",
      "iter 170, loss: 21.291989\n",
      "iter 171, loss: 20.713161\n",
      "iter 172, loss: 20.690533\n",
      "iter 173, loss: 24.817173\n",
      "iter 174, loss: 20.881665\n",
      "iter 175, loss: 18.883378\n",
      "iter 176, loss: 19.415439\n",
      "iter 177, loss: 22.634602\n",
      "iter 178, loss: 23.427261\n",
      "iter 179, loss: 21.659750\n",
      "iter 180, loss: 20.989532\n",
      "iter 181, loss: 18.664185\n",
      "iter 182, loss: 22.446737\n",
      "iter 183, loss: 21.177670\n",
      "iter 184, loss: 18.458121\n",
      "iter 185, loss: 20.438084\n",
      "iter 186, loss: 19.821016\n",
      "iter 187, loss: 18.560690\n",
      "iter 188, loss: 21.609775\n",
      "iter 189, loss: 19.660415\n",
      "iter 190, loss: 18.524669\n",
      "iter 191, loss: 17.904884\n",
      "iter 192, loss: 22.236406\n",
      "iter 193, loss: 20.096783\n",
      "iter 194, loss: 20.060916\n",
      "iter 195, loss: 17.839451\n",
      "iter 196, loss: 18.684508\n",
      "iter 197, loss: 21.874547\n",
      "iter 198, loss: 18.358450\n",
      "iter 199, loss: 20.754017\n",
      "iter 200, loss: 18.105354\n",
      "iter 201, loss: 17.999437\n",
      "iter 202, loss: 29.592300\n",
      "iter 203, loss: 18.289089\n",
      "iter 204, loss: 16.944109\n",
      "iter 205, loss: 17.848144\n",
      "iter 206, loss: 17.480940\n",
      "iter 207, loss: 16.983063\n",
      "iter 208, loss: 22.780154\n",
      "iter 209, loss: 20.148293\n",
      "iter 210, loss: 16.056536\n",
      "iter 211, loss: 18.651050\n",
      "iter 212, loss: 16.981038\n",
      "iter 213, loss: 16.899572\n",
      "iter 214, loss: 16.626290\n",
      "iter 215, loss: 19.529821\n",
      "iter 216, loss: 17.949788\n",
      "iter 217, loss: 16.246127\n",
      "iter 218, loss: 17.076505\n",
      "iter 219, loss: 18.562905\n",
      "iter 220, loss: 16.522924\n",
      "iter 221, loss: 16.653376\n",
      "iter 222, loss: 17.295885\n",
      "iter 223, loss: 19.184453\n",
      "iter 224, loss: 19.695508\n",
      "iter 225, loss: 17.678355\n",
      "iter 226, loss: 17.270484\n",
      "iter 227, loss: 17.445857\n",
      "iter 228, loss: 22.499421\n",
      "iter 229, loss: 16.962333\n",
      "iter 230, loss: 16.546161\n",
      "iter 231, loss: 16.675624\n",
      "iter 232, loss: 17.764444\n",
      "iter 233, loss: 16.263252\n",
      "iter 234, loss: 16.989289\n",
      "iter 235, loss: 18.404247\n",
      "iter 236, loss: 16.296417\n",
      "iter 237, loss: 17.173107\n",
      "iter 238, loss: 16.463025\n",
      "iter 239, loss: 15.849873\n",
      "iter 240, loss: 16.590137\n",
      "iter 241, loss: 16.339484\n",
      "iter 242, loss: 18.022653\n",
      "iter 243, loss: 15.809410\n",
      "iter 244, loss: 15.192625\n",
      "iter 245, loss: 18.794697\n",
      "iter 246, loss: 20.331710\n",
      "iter 247, loss: 18.375246\n",
      "iter 248, loss: 19.204231\n",
      "iter 249, loss: 16.277194\n",
      "iter 250, loss: 15.953430\n",
      "iter 251, loss: 15.355076\n",
      "iter 252, loss: 15.950646\n",
      "iter 253, loss: 20.290687\n",
      "iter 254, loss: 16.550515\n",
      "iter 255, loss: 15.267050\n",
      "iter 256, loss: 18.877128\n",
      "iter 257, loss: 16.351954\n",
      "iter 258, loss: 15.076773\n",
      "iter 259, loss: 15.378684\n",
      "iter 260, loss: 16.187280\n",
      "iter 261, loss: 16.003915\n",
      "iter 262, loss: 15.537800\n",
      "iter 263, loss: 15.321382\n",
      "iter 264, loss: 17.699378\n",
      "iter 265, loss: 15.493326\n",
      "iter 266, loss: 15.664684\n",
      "iter 267, loss: 15.127118\n",
      "iter 268, loss: 14.555625\n",
      "iter 269, loss: 16.446451\n",
      "iter 270, loss: 19.786677\n",
      "iter 271, loss: 15.255392\n",
      "iter 272, loss: 16.090166\n",
      "iter 273, loss: 14.708748\n",
      "iter 274, loss: 15.391704\n",
      "iter 275, loss: 15.489951\n",
      "iter 276, loss: 16.336674\n",
      "iter 277, loss: 14.461481\n",
      "iter 278, loss: 14.015937\n",
      "iter 279, loss: 15.693710\n",
      "iter 280, loss: 15.588422\n",
      "iter 281, loss: 15.034595\n",
      "iter 282, loss: 15.103063\n",
      "iter 283, loss: 16.733161\n",
      "iter 284, loss: 16.290973\n",
      "iter 285, loss: 14.450256\n",
      "iter 286, loss: 14.868004\n",
      "iter 287, loss: 16.737204\n",
      "iter 288, loss: 15.383809\n",
      "iter 289, loss: 17.752923\n",
      "iter 290, loss: 20.054383\n",
      "iter 291, loss: 16.081438\n",
      "iter 292, loss: 15.948013\n",
      "iter 293, loss: 13.634416\n",
      "iter 294, loss: 18.243490\n",
      "iter 295, loss: 20.067370\n",
      "iter 296, loss: 15.913271\n",
      "iter 297, loss: 15.383215\n",
      "iter 298, loss: 13.981964\n",
      "iter 299, loss: 15.114322\n",
      "iter 300, loss: 15.944274\n",
      "iter 301, loss: 15.293531\n",
      "iter 302, loss: 18.537510\n",
      "iter 303, loss: 14.604085\n",
      "iter 304, loss: 15.868923\n",
      "iter 305, loss: 14.238823\n",
      "iter 306, loss: 17.018032\n",
      "iter 307, loss: 13.689104\n",
      "iter 308, loss: 14.636323\n",
      "iter 309, loss: 15.325348\n",
      "iter 310, loss: 14.617147\n",
      "iter 311, loss: 13.710768\n",
      "iter 312, loss: 14.806004\n",
      "iter 313, loss: 15.560221\n",
      "iter 314, loss: 13.616582\n",
      "iter 315, loss: 14.403875\n",
      "iter 316, loss: 13.794807\n",
      "iter 317, loss: 12.621793\n",
      "iter 318, loss: 14.183479\n",
      "iter 319, loss: 20.419252\n"
     ]
    },
    {
     "name": "stdout",
     "output_type": "stream",
     "text": [
      "iter 320, loss: 13.823032\n",
      "iter 321, loss: 15.717047\n",
      "iter 322, loss: 17.271453\n",
      "iter 323, loss: 15.062580\n",
      "iter 324, loss: 23.568805\n",
      "iter 325, loss: 14.523588\n",
      "iter 326, loss: 18.282066\n",
      "iter 327, loss: 15.065164\n",
      "iter 328, loss: 14.525215\n",
      "iter 329, loss: 15.234724\n",
      "iter 330, loss: 14.230284\n",
      "iter 331, loss: 14.362687\n",
      "iter 332, loss: 13.037528\n",
      "iter 333, loss: 14.393408\n",
      "iter 334, loss: 13.292764\n",
      "iter 335, loss: 14.851923\n",
      "iter 336, loss: 14.771687\n",
      "iter 337, loss: 13.816750\n",
      "iter 338, loss: 14.221830\n",
      "iter 339, loss: 13.293737\n",
      "iter 340, loss: 12.175092\n",
      "iter 341, loss: 13.821365\n",
      "iter 342, loss: 14.060250\n",
      "iter 343, loss: 20.863113\n",
      "iter 344, loss: 14.330550\n",
      "iter 345, loss: 12.806643\n",
      "iter 346, loss: 12.763028\n",
      "iter 347, loss: 13.836909\n",
      "iter 348, loss: 20.902856\n",
      "iter 349, loss: 14.818803\n",
      "iter 350, loss: 14.783116\n",
      "iter 351, loss: 12.916610\n",
      "iter 352, loss: 15.200017\n",
      "iter 353, loss: 14.476614\n",
      "iter 354, loss: 12.816179\n",
      "iter 355, loss: 14.523159\n",
      "iter 356, loss: 13.423924\n",
      "iter 357, loss: 14.497705\n",
      "iter 358, loss: 14.448017\n",
      "iter 359, loss: 13.472610\n",
      "iter 360, loss: 17.840509\n",
      "iter 361, loss: 15.582259\n",
      "iter 362, loss: 15.150326\n",
      "iter 363, loss: 12.672797\n",
      "iter 364, loss: 13.205001\n",
      "iter 365, loss: 11.975211\n",
      "iter 366, loss: 14.219696\n",
      "iter 367, loss: 14.191395\n",
      "iter 368, loss: 12.899584\n",
      "iter 369, loss: 16.947374\n",
      "iter 370, loss: 13.921515\n",
      "iter 371, loss: 13.019114\n",
      "iter 372, loss: 14.750704\n",
      "iter 373, loss: 13.750103\n",
      "iter 374, loss: 14.909065\n",
      "iter 375, loss: 13.757572\n",
      "iter 376, loss: 12.866889\n",
      "iter 377, loss: 13.558290\n",
      "iter 378, loss: 15.541145\n",
      "iter 379, loss: 14.195935\n",
      "iter 380, loss: 13.853050\n",
      "iter 381, loss: 12.161437\n",
      "iter 382, loss: 13.316390\n",
      "iter 383, loss: 12.782950\n",
      "iter 384, loss: 13.325276\n",
      "iter 385, loss: 12.866365\n",
      "iter 386, loss: 14.177139\n",
      "iter 387, loss: 12.738997\n",
      "iter 388, loss: 15.359155\n",
      "iter 389, loss: 15.423845\n",
      "iter 390, loss: 13.220481\n",
      "iter 391, loss: 12.719228\n",
      "iter 392, loss: 12.184542\n",
      "iter 393, loss: 13.643899\n",
      "iter 394, loss: 15.226682\n",
      "iter 395, loss: 13.515076\n",
      "iter 396, loss: 14.382783\n",
      "iter 397, loss: 13.815554\n",
      "iter 398, loss: 13.842678\n",
      "iter 399, loss: 19.947908\n",
      "iter 400, loss: 12.479872\n",
      "iter 401, loss: 12.489092\n",
      "iter 402, loss: 12.201941\n",
      "iter 403, loss: 13.214853\n",
      "iter 404, loss: 12.081393\n",
      "iter 405, loss: 12.690631\n",
      "iter 406, loss: 13.492140\n",
      "iter 407, loss: 12.520361\n",
      "iter 408, loss: 14.624131\n",
      "iter 409, loss: 13.504368\n",
      "iter 410, loss: 15.160265\n",
      "iter 411, loss: 16.056891\n",
      "iter 412, loss: 13.835578\n",
      "iter 413, loss: 13.678872\n",
      "iter 414, loss: 14.866694\n",
      "iter 415, loss: 12.771460\n",
      "iter 416, loss: 12.561561\n",
      "iter 417, loss: 12.753600\n",
      "iter 418, loss: 12.255336\n",
      "iter 419, loss: 13.823838\n",
      "iter 420, loss: 12.587867\n",
      "iter 421, loss: 12.659589\n",
      "iter 422, loss: 13.507763\n",
      "iter 423, loss: 12.312188\n",
      "iter 424, loss: 24.105433\n",
      "iter 425, loss: 13.569864\n",
      "iter 426, loss: 12.554367\n",
      "iter 427, loss: 13.190320\n",
      "iter 428, loss: 16.794511\n",
      "iter 429, loss: 13.765747\n",
      "iter 430, loss: 22.537267\n",
      "iter 431, loss: 13.165587\n",
      "iter 432, loss: 13.327681\n",
      "iter 433, loss: 14.799002\n",
      "iter 434, loss: 12.212216\n",
      "iter 435, loss: 13.674074\n",
      "iter 436, loss: 13.589740\n",
      "iter 437, loss: 12.157931\n",
      "iter 438, loss: 15.734861\n",
      "iter 439, loss: 13.533943\n",
      "iter 440, loss: 12.044900\n",
      "iter 441, loss: 12.829698\n",
      "iter 442, loss: 12.955763\n",
      "iter 443, loss: 12.445938\n",
      "iter 444, loss: 13.270110\n",
      "iter 445, loss: 12.138546\n",
      "iter 446, loss: 12.780418\n",
      "iter 447, loss: 12.755262\n",
      "iter 448, loss: 12.764120\n",
      "iter 449, loss: 12.160607\n",
      "iter 450, loss: 12.658231\n",
      "iter 451, loss: 12.533024\n",
      "iter 452, loss: 13.173504\n",
      "iter 453, loss: 12.076116\n",
      "iter 454, loss: 12.308177\n",
      "iter 455, loss: 13.073667\n",
      "iter 456, loss: 16.279505\n",
      "iter 457, loss: 13.534491\n",
      "iter 458, loss: 12.467372\n",
      "iter 459, loss: 16.264567\n",
      "iter 460, loss: 15.384955\n",
      "iter 461, loss: 14.395072\n",
      "iter 462, loss: 11.999063\n",
      "iter 463, loss: 13.414090\n",
      "iter 464, loss: 13.040663\n",
      "iter 465, loss: 11.310966\n",
      "iter 466, loss: 12.211346\n",
      "iter 467, loss: 12.065681\n",
      "iter 468, loss: 14.188963\n",
      "iter 469, loss: 13.089003\n",
      "iter 470, loss: 11.703704\n",
      "iter 471, loss: 11.569894\n",
      "iter 472, loss: 13.049908\n",
      "iter 473, loss: 11.494592\n",
      "iter 474, loss: 11.673575\n",
      "iter 475, loss: 12.405293\n",
      "iter 476, loss: 12.830415\n",
      "iter 477, loss: 11.494659\n",
      "iter 478, loss: 12.388024\n",
      "iter 479, loss: 12.472492\n",
      "iter 480, loss: 12.818403\n",
      "iter 481, loss: 14.399660\n",
      "iter 482, loss: 16.087224\n",
      "iter 483, loss: 12.190079\n",
      "iter 484, loss: 12.590754\n",
      "iter 485, loss: 11.034874\n",
      "iter 486, loss: 11.206029\n",
      "iter 487, loss: 12.012642\n",
      "iter 488, loss: 12.695750\n",
      "iter 489, loss: 12.502341\n",
      "iter 490, loss: 14.220337\n",
      "iter 491, loss: 13.538602\n",
      "iter 492, loss: 12.310053\n",
      "iter 493, loss: 12.317978\n",
      "iter 494, loss: 12.884044\n",
      "iter 495, loss: 11.463806\n",
      "iter 496, loss: 12.079457\n",
      "iter 497, loss: 15.402399\n",
      "iter 498, loss: 13.977608\n",
      "iter 499, loss: 15.607800\n",
      "iter 500, loss: 11.463883\n",
      "iter 501, loss: 12.040235\n",
      "iter 502, loss: 14.026251\n",
      "iter 503, loss: 13.963045\n",
      "iter 504, loss: 12.274441\n",
      "iter 505, loss: 11.604717\n",
      "iter 506, loss: 12.102493\n",
      "iter 507, loss: 12.553383\n",
      "iter 508, loss: 11.639122\n",
      "iter 509, loss: 13.764654\n",
      "iter 510, loss: 11.549991\n",
      "iter 511, loss: 14.599835\n",
      "iter 512, loss: 12.293107\n",
      "iter 513, loss: 14.789726\n",
      "iter 514, loss: 16.088438\n",
      "iter 515, loss: 11.699637\n",
      "iter 516, loss: 13.188183\n",
      "iter 517, loss: 11.954848\n",
      "iter 518, loss: 13.480048\n",
      "iter 519, loss: 12.951364\n",
      "iter 520, loss: 11.509676\n",
      "iter 521, loss: 13.706040\n",
      "iter 522, loss: 12.280368\n",
      "iter 523, loss: 12.172621\n",
      "iter 524, loss: 11.931626\n",
      "iter 525, loss: 12.329762\n",
      "iter 526, loss: 11.310018\n",
      "iter 527, loss: 13.476883\n",
      "iter 528, loss: 11.950172\n",
      "iter 529, loss: 11.330145\n",
      "iter 530, loss: 12.173721\n",
      "iter 531, loss: 12.399305\n",
      "iter 532, loss: 12.838428\n",
      "iter 533, loss: 11.261536\n",
      "iter 534, loss: 14.283509\n",
      "iter 535, loss: 12.611129\n",
      "iter 536, loss: 11.602288\n",
      "iter 537, loss: 16.433917\n",
      "iter 538, loss: 13.272611\n",
      "iter 539, loss: 12.518277\n",
      "iter 540, loss: 12.799179\n",
      "iter 541, loss: 11.673382\n",
      "iter 542, loss: 11.430447\n",
      "iter 543, loss: 11.965481\n",
      "iter 544, loss: 12.214574\n",
      "iter 545, loss: 14.050273\n",
      "iter 546, loss: 13.476260\n",
      "iter 547, loss: 11.048786\n",
      "iter 548, loss: 11.888119\n",
      "iter 549, loss: 11.840316\n",
      "iter 550, loss: 11.171256\n",
      "iter 551, loss: 12.786132\n",
      "iter 552, loss: 11.457874\n",
      "iter 553, loss: 11.616512\n",
      "iter 554, loss: 12.795115\n",
      "iter 555, loss: 13.481187\n",
      "iter 556, loss: 13.432770\n",
      "iter 557, loss: 12.800793\n",
      "iter 558, loss: 12.966974\n",
      "iter 559, loss: 12.058680\n",
      "iter 560, loss: 12.202426\n",
      "iter 561, loss: 15.182770\n",
      "iter 562, loss: 11.146990\n",
      "iter 563, loss: 12.593284\n",
      "iter 564, loss: 13.797857\n",
      "iter 565, loss: 11.396647\n",
      "iter 566, loss: 11.894283\n",
      "iter 567, loss: 11.745537\n",
      "iter 568, loss: 12.156485\n",
      "iter 569, loss: 13.011601\n",
      "iter 570, loss: 12.411518\n",
      "iter 571, loss: 12.210853\n",
      "iter 572, loss: 11.681724\n",
      "iter 573, loss: 12.914414\n",
      "iter 574, loss: 11.751168\n",
      "iter 575, loss: 11.378334\n",
      "iter 576, loss: 11.442043\n",
      "iter 577, loss: 11.300919\n",
      "iter 578, loss: 12.508466\n",
      "iter 579, loss: 11.939495\n",
      "iter 580, loss: 11.402913\n",
      "iter 581, loss: 11.904828\n",
      "iter 582, loss: 11.926115\n",
      "iter 583, loss: 11.502429\n",
      "iter 584, loss: 13.049405\n",
      "iter 585, loss: 10.800904\n",
      "iter 586, loss: 10.280245\n",
      "iter 587, loss: 10.613855\n",
      "iter 588, loss: 11.174689\n",
      "iter 589, loss: 11.225647\n",
      "iter 590, loss: 12.015340\n",
      "iter 591, loss: 11.418462\n",
      "iter 592, loss: 12.351367\n",
      "iter 593, loss: 11.276030\n",
      "iter 594, loss: 12.388259\n",
      "iter 595, loss: 12.099599\n",
      "iter 596, loss: 12.388185\n",
      "iter 597, loss: 11.260081\n",
      "iter 598, loss: 11.845253\n",
      "iter 599, loss: 11.217100\n",
      "iter 600, loss: 11.830955\n",
      "iter 601, loss: 13.818337\n",
      "iter 602, loss: 10.976218\n",
      "iter 603, loss: 17.507521\n",
      "iter 604, loss: 13.290430\n",
      "iter 605, loss: 11.720559\n",
      "iter 606, loss: 10.546507\n",
      "iter 607, loss: 10.905551\n",
      "iter 608, loss: 10.470371\n",
      "iter 609, loss: 12.021262\n",
      "iter 610, loss: 13.200836\n",
      "iter 611, loss: 12.215698\n",
      "iter 612, loss: 10.634843\n",
      "iter 613, loss: 11.896477\n",
      "iter 614, loss: 12.555570\n",
      "iter 615, loss: 15.050774\n",
      "iter 616, loss: 11.077558\n",
      "iter 617, loss: 11.909684\n",
      "iter 618, loss: 11.380299\n",
      "iter 619, loss: 11.585387\n",
      "iter 620, loss: 14.217310\n",
      "iter 621, loss: 13.301401\n",
      "iter 622, loss: 15.408836\n",
      "iter 623, loss: 10.825873\n",
      "iter 624, loss: 12.467417\n",
      "iter 625, loss: 10.530116\n",
      "iter 626, loss: 12.358310\n",
      "iter 627, loss: 11.155238\n",
      "iter 628, loss: 10.209242\n",
      "iter 629, loss: 11.343885\n",
      "iter 630, loss: 11.147491\n",
      "iter 631, loss: 13.589148\n",
      "iter 632, loss: 13.552752\n",
      "iter 633, loss: 16.607986\n",
      "iter 634, loss: 11.482074\n",
      "iter 635, loss: 11.338033\n"
     ]
    },
    {
     "name": "stdout",
     "output_type": "stream",
     "text": [
      "iter 636, loss: 10.443241\n",
      "iter 637, loss: 10.233298\n",
      "iter 638, loss: 14.568978\n",
      "iter 639, loss: 10.736898\n",
      "iter 640, loss: 10.342062\n",
      "iter 641, loss: 11.820401\n",
      "iter 642, loss: 11.271364\n",
      "iter 643, loss: 17.925116\n",
      "iter 644, loss: 10.788872\n",
      "iter 645, loss: 10.601597\n",
      "iter 646, loss: 11.201499\n",
      "iter 647, loss: 11.106497\n",
      "iter 648, loss: 10.996192\n",
      "iter 649, loss: 14.697126\n",
      "iter 650, loss: 16.162953\n",
      "iter 651, loss: 10.154106\n",
      "iter 652, loss: 11.865944\n",
      "iter 653, loss: 12.315901\n",
      "iter 654, loss: 12.081857\n",
      "iter 655, loss: 13.549843\n",
      "iter 656, loss: 10.761827\n",
      "iter 657, loss: 10.972272\n",
      "iter 658, loss: 10.281674\n",
      "iter 659, loss: 9.225689\n",
      "iter 660, loss: 11.315511\n",
      "iter 661, loss: 15.067664\n",
      "iter 662, loss: 10.739334\n",
      "iter 663, loss: 10.521307\n",
      "iter 664, loss: 10.140514\n",
      "iter 665, loss: 12.083875\n",
      "iter 666, loss: 11.344484\n",
      "iter 667, loss: 11.673493\n",
      "iter 668, loss: 9.052616\n",
      "iter 669, loss: 13.070197\n",
      "iter 670, loss: 11.611561\n",
      "iter 671, loss: 9.946359\n",
      "iter 672, loss: 11.385051\n",
      "iter 673, loss: 12.695402\n",
      "iter 674, loss: 10.278923\n",
      "iter 675, loss: 16.439832\n",
      "iter 676, loss: 12.235505\n",
      "iter 677, loss: 10.734352\n",
      "iter 678, loss: 10.749945\n",
      "iter 679, loss: 11.800011\n",
      "iter 680, loss: 10.385917\n",
      "iter 681, loss: 12.734443\n",
      "iter 682, loss: 9.423989\n",
      "iter 683, loss: 11.070963\n",
      "iter 684, loss: 10.585903\n",
      "iter 685, loss: 9.904280\n",
      "iter 686, loss: 9.742898\n",
      "iter 687, loss: 10.234086\n",
      "iter 688, loss: 10.881792\n",
      "iter 689, loss: 11.083558\n",
      "iter 690, loss: 11.009866\n",
      "iter 691, loss: 9.441037\n",
      "iter 692, loss: 9.976991\n",
      "iter 693, loss: 9.643013\n",
      "iter 694, loss: 11.380919\n",
      "iter 695, loss: 13.096436\n",
      "iter 696, loss: 10.198859\n",
      "iter 697, loss: 13.842134\n",
      "iter 698, loss: 10.566251\n",
      "iter 699, loss: 10.488928\n",
      "iter 700, loss: 11.356923\n",
      "iter 701, loss: 12.169819\n",
      "iter 702, loss: 9.631961\n",
      "iter 703, loss: 11.440273\n",
      "iter 704, loss: 11.777491\n",
      "iter 705, loss: 10.887322\n",
      "iter 706, loss: 9.824926\n",
      "iter 707, loss: 10.506792\n",
      "iter 708, loss: 10.485994\n",
      "iter 709, loss: 10.449771\n",
      "iter 710, loss: 9.623819\n",
      "iter 711, loss: 10.699875\n",
      "iter 712, loss: 11.539843\n",
      "iter 713, loss: 12.031286\n",
      "iter 714, loss: 11.396524\n",
      "iter 715, loss: 9.282788\n",
      "iter 716, loss: 10.484125\n",
      "iter 717, loss: 10.518704\n",
      "iter 718, loss: 12.402662\n",
      "iter 719, loss: 14.133199\n",
      "iter 720, loss: 11.214043\n",
      "iter 721, loss: 10.277194\n",
      "iter 722, loss: 10.735176\n",
      "iter 723, loss: 10.446175\n",
      "iter 724, loss: 15.046024\n",
      "iter 725, loss: 13.059857\n",
      "iter 726, loss: 11.668972\n",
      "iter 727, loss: 12.138328\n",
      "iter 728, loss: 10.575324\n",
      "iter 729, loss: 11.440417\n",
      "iter 730, loss: 10.745412\n",
      "iter 731, loss: 14.583897\n",
      "iter 732, loss: 10.036221\n",
      "iter 733, loss: 11.155006\n",
      "iter 734, loss: 14.596176\n",
      "iter 735, loss: 11.258965\n",
      "iter 736, loss: 11.230345\n",
      "iter 737, loss: 9.822764\n",
      "iter 738, loss: 10.078938\n",
      "iter 739, loss: 10.233364\n",
      "iter 740, loss: 10.118837\n",
      "iter 741, loss: 10.793168\n",
      "iter 742, loss: 9.358334\n",
      "iter 743, loss: 11.394513\n",
      "iter 744, loss: 9.783692\n",
      "iter 745, loss: 18.932523\n",
      "iter 746, loss: 12.989555\n",
      "iter 747, loss: 10.519771\n",
      "iter 748, loss: 11.511146\n",
      "iter 749, loss: 18.521578\n",
      "iter 750, loss: 11.303360\n",
      "iter 751, loss: 9.979906\n",
      "iter 752, loss: 9.693483\n",
      "iter 753, loss: 10.257590\n",
      "iter 754, loss: 10.084126\n",
      "iter 755, loss: 12.939598\n",
      "iter 756, loss: 14.337695\n",
      "iter 757, loss: 10.045060\n",
      "iter 758, loss: 10.357511\n",
      "iter 759, loss: 11.599148\n",
      "iter 760, loss: 9.827699\n",
      "iter 761, loss: 11.486683\n",
      "iter 762, loss: 10.202823\n",
      "iter 763, loss: 10.239408\n",
      "iter 764, loss: 10.008797\n",
      "iter 765, loss: 12.363408\n",
      "iter 766, loss: 10.344257\n",
      "iter 767, loss: 10.722416\n",
      "iter 768, loss: 11.097969\n",
      "iter 769, loss: 10.606616\n",
      "iter 770, loss: 10.912016\n",
      "iter 771, loss: 14.440439\n",
      "iter 772, loss: 10.258903\n",
      "iter 773, loss: 11.022934\n",
      "iter 774, loss: 11.086325\n",
      "iter 775, loss: 9.998432\n",
      "iter 776, loss: 10.463443\n",
      "iter 777, loss: 9.668267\n",
      "iter 778, loss: 10.388568\n",
      "iter 779, loss: 10.397483\n",
      "iter 780, loss: 11.290661\n",
      "iter 781, loss: 10.471635\n",
      "iter 782, loss: 9.611245\n",
      "iter 783, loss: 10.896145\n",
      "iter 784, loss: 9.532048\n",
      "iter 785, loss: 9.390853\n",
      "iter 786, loss: 11.712996\n",
      "iter 787, loss: 11.462919\n",
      "iter 788, loss: 9.748527\n",
      "iter 789, loss: 10.086040\n",
      "iter 790, loss: 9.335686\n",
      "iter 791, loss: 9.247735\n",
      "iter 792, loss: 10.867590\n",
      "iter 793, loss: 10.465817\n",
      "iter 794, loss: 8.974078\n",
      "iter 795, loss: 9.180597\n",
      "iter 796, loss: 9.719260\n",
      "iter 797, loss: 9.591948\n",
      "iter 798, loss: 9.656483\n",
      "iter 799, loss: 11.073213\n",
      "iter 800, loss: 10.641615\n",
      "iter 801, loss: 9.297488\n",
      "iter 802, loss: 16.423302\n",
      "iter 803, loss: 11.726705\n",
      "iter 804, loss: 9.593633\n",
      "iter 805, loss: 9.674371\n",
      "iter 806, loss: 13.137794\n",
      "iter 807, loss: 10.502012\n",
      "iter 808, loss: 10.569742\n",
      "iter 809, loss: 9.654969\n",
      "iter 810, loss: 10.557579\n",
      "iter 811, loss: 10.669501\n",
      "iter 812, loss: 10.734670\n",
      "iter 813, loss: 9.811009\n",
      "iter 814, loss: 9.562003\n",
      "iter 815, loss: 10.007318\n",
      "iter 816, loss: 10.043733\n",
      "iter 817, loss: 9.707112\n",
      "iter 818, loss: 9.966731\n",
      "iter 819, loss: 8.810407\n",
      "iter 820, loss: 10.167002\n",
      "iter 821, loss: 10.283202\n",
      "iter 822, loss: 10.783012\n",
      "iter 823, loss: 9.909384\n",
      "iter 824, loss: 10.149650\n",
      "iter 825, loss: 10.740234\n",
      "iter 826, loss: 15.384599\n",
      "iter 827, loss: 10.675889\n",
      "iter 828, loss: 10.452422\n",
      "iter 829, loss: 9.485731\n",
      "iter 830, loss: 10.520751\n",
      "iter 831, loss: 10.701920\n",
      "iter 832, loss: 10.593700\n",
      "iter 833, loss: 9.043256\n",
      "iter 834, loss: 10.167396\n",
      "iter 835, loss: 9.114345\n",
      "iter 836, loss: 7.997670\n",
      "iter 837, loss: 9.935675\n",
      "iter 838, loss: 8.930583\n",
      "iter 839, loss: 10.065542\n",
      "iter 840, loss: 10.922471\n",
      "iter 841, loss: 9.024275\n",
      "iter 842, loss: 14.764814\n",
      "iter 843, loss: 10.437048\n",
      "iter 844, loss: 9.550870\n",
      "iter 845, loss: 10.616584\n",
      "iter 846, loss: 8.960331\n",
      "iter 847, loss: 10.094972\n",
      "iter 848, loss: 9.940712\n",
      "iter 849, loss: 11.641255\n",
      "iter 850, loss: 10.203626\n",
      "iter 851, loss: 8.916741\n",
      "iter 852, loss: 13.086724\n",
      "iter 853, loss: 8.877450\n",
      "iter 854, loss: 10.382045\n",
      "iter 855, loss: 14.476872\n",
      "iter 856, loss: 10.245864\n",
      "iter 857, loss: 9.611293\n",
      "iter 858, loss: 8.975827\n",
      "iter 859, loss: 17.204253\n",
      "iter 860, loss: 11.142430\n",
      "iter 861, loss: 9.204522\n",
      "iter 862, loss: 9.015615\n",
      "iter 863, loss: 9.508425\n",
      "iter 864, loss: 8.663306\n",
      "iter 865, loss: 9.464160\n",
      "iter 866, loss: 9.553845\n",
      "iter 867, loss: 10.285542\n",
      "iter 868, loss: 8.939517\n",
      "iter 869, loss: 12.476530\n",
      "iter 870, loss: 9.214444\n",
      "iter 871, loss: 8.675029\n",
      "iter 872, loss: 9.271909\n",
      "iter 873, loss: 9.161260\n",
      "iter 874, loss: 9.719517\n",
      "iter 875, loss: 9.180701\n",
      "iter 876, loss: 9.370179\n",
      "iter 877, loss: 9.876292\n",
      "iter 878, loss: 8.948321\n",
      "iter 879, loss: 9.998371\n",
      "iter 880, loss: 9.850265\n",
      "iter 881, loss: 8.314156\n",
      "iter 882, loss: 8.210262\n",
      "iter 883, loss: 8.561880\n",
      "iter 884, loss: 9.032045\n",
      "iter 885, loss: 8.899507\n",
      "iter 886, loss: 8.581980\n",
      "iter 887, loss: 8.870664\n",
      "iter 888, loss: 13.943965\n",
      "iter 889, loss: 8.944703\n",
      "iter 890, loss: 8.988775\n",
      "iter 891, loss: 9.515740\n",
      "iter 892, loss: 9.339866\n",
      "iter 893, loss: 8.503102\n",
      "iter 894, loss: 9.140448\n",
      "iter 895, loss: 9.324207\n",
      "iter 896, loss: 9.195913\n",
      "iter 897, loss: 10.383678\n",
      "iter 898, loss: 9.601737\n",
      "iter 899, loss: 10.363356\n",
      "iter 900, loss: 9.927583\n",
      "iter 901, loss: 9.552974\n",
      "iter 902, loss: 8.622923\n",
      "iter 903, loss: 9.263045\n",
      "iter 904, loss: 8.996458\n",
      "iter 905, loss: 8.671693\n",
      "iter 906, loss: 10.096793\n",
      "iter 907, loss: 10.062145\n",
      "iter 908, loss: 9.364634\n",
      "iter 909, loss: 8.404938\n",
      "iter 910, loss: 8.636758\n",
      "iter 911, loss: 8.916997\n",
      "iter 912, loss: 9.631126\n",
      "iter 913, loss: 10.090130\n",
      "iter 914, loss: 9.487846\n",
      "iter 915, loss: 8.638738\n",
      "iter 916, loss: 12.964570\n",
      "iter 917, loss: 12.364141\n",
      "iter 918, loss: 8.748498\n",
      "iter 919, loss: 8.635027\n",
      "iter 920, loss: 10.886038\n",
      "iter 921, loss: 10.475212\n",
      "iter 922, loss: 12.039953\n",
      "iter 923, loss: 8.650325\n",
      "iter 924, loss: 9.289540\n",
      "iter 925, loss: 9.117541\n",
      "iter 926, loss: 9.083364\n",
      "iter 927, loss: 8.528929\n",
      "iter 928, loss: 8.983544\n",
      "iter 929, loss: 8.116016\n",
      "iter 930, loss: 10.044953\n",
      "iter 931, loss: 10.344847\n",
      "iter 932, loss: 8.551368\n",
      "iter 933, loss: 11.113775\n",
      "iter 934, loss: 8.769350\n",
      "iter 935, loss: 8.222984\n",
      "iter 936, loss: 7.964286\n",
      "iter 937, loss: 9.425572\n",
      "iter 938, loss: 10.158512\n",
      "iter 939, loss: 11.972127\n",
      "iter 940, loss: 8.711664\n",
      "iter 941, loss: 8.281732\n",
      "iter 942, loss: 8.962406\n",
      "iter 943, loss: 8.894138\n",
      "iter 944, loss: 7.677304\n",
      "iter 945, loss: 8.537777\n",
      "iter 946, loss: 7.916080\n",
      "iter 947, loss: 9.253604\n",
      "iter 948, loss: 7.911090\n",
      "iter 949, loss: 10.293499\n",
      "iter 950, loss: 7.826993\n",
      "iter 951, loss: 9.414558\n",
      "iter 952, loss: 8.136146\n",
      "iter 953, loss: 8.931508\n",
      "iter 954, loss: 7.798638\n",
      "iter 955, loss: 8.028007\n",
      "iter 956, loss: 7.934026\n"
     ]
    },
    {
     "name": "stdout",
     "output_type": "stream",
     "text": [
      "iter 957, loss: 8.739930\n",
      "iter 958, loss: 9.195141\n",
      "iter 959, loss: 8.346275\n",
      "iter 960, loss: 10.370963\n",
      "iter 961, loss: 7.961204\n",
      "iter 962, loss: 7.724499\n",
      "iter 963, loss: 8.371620\n",
      "iter 964, loss: 8.879643\n",
      "iter 965, loss: 11.357500\n",
      "iter 966, loss: 8.025776\n",
      "iter 967, loss: 8.148487\n",
      "iter 968, loss: 10.118596\n",
      "iter 969, loss: 10.039810\n",
      "iter 970, loss: 8.643706\n",
      "iter 971, loss: 8.704940\n",
      "iter 972, loss: 8.686817\n",
      "iter 973, loss: 9.167279\n",
      "iter 974, loss: 8.902852\n",
      "iter 975, loss: 9.055590\n",
      "iter 976, loss: 9.179539\n",
      "iter 977, loss: 8.195244\n",
      "iter 978, loss: 8.012235\n",
      "iter 979, loss: 8.308641\n",
      "iter 980, loss: 8.121556\n",
      "iter 981, loss: 7.947093\n",
      "iter 982, loss: 9.324435\n",
      "iter 983, loss: 16.439643\n",
      "iter 984, loss: 7.592938\n",
      "iter 985, loss: 7.818685\n",
      "iter 986, loss: 7.838515\n",
      "iter 987, loss: 9.471809\n",
      "iter 988, loss: 7.864072\n",
      "iter 989, loss: 9.116871\n",
      "iter 990, loss: 7.903150\n",
      "iter 991, loss: 8.182292\n",
      "iter 992, loss: 7.932734\n",
      "iter 993, loss: 7.755863\n",
      "iter 994, loss: 8.661878\n",
      "iter 995, loss: 8.171044\n",
      "iter 996, loss: 7.926415\n",
      "iter 997, loss: 8.267925\n",
      "iter 998, loss: 7.408577\n",
      "iter 999, loss: 11.158840\n",
      "CPU times: user 1h 16min 46s, sys: 3h 22min 33s, total: 4h 39min 20s\n",
      "Wall time: 17min 29s\n"
     ]
    }
   ],
   "source": [
    "%%time\n",
    "\n",
    "data_pointer = 0\n",
    "\n",
    "# memory variables for Adagrad\n",
    "mWxh, mWhh, mWhy = np.zeros_like(W_xh), np.zeros_like(W_hh), np.zeros_like(W_hy)\n",
    "mbh, mby = np.zeros_like(b_h), np.zeros_like(b_y) \n",
    "\n",
    "for i in range(iteration):\n",
    "    h_prev = np.zeros((hidden_size,1)) # reset RNN memory\n",
    "    data_pointer = 0 # go from start of data\n",
    "    \n",
    "    for b in range(batch_size):\n",
    "        \n",
    "        inputs = [char_to_int[ch] for ch in article_text[data_pointer:data_pointer+sequence_length]]\n",
    "        targets = [char_to_int[ch] for ch in article_text[data_pointer+1:data_pointer+sequence_length+1]] # t+1        \n",
    "            \n",
    "        if (data_pointer+sequence_length+1 >= len(article_text) and b == batch_size-1): # processing of the last part of the input data. \n",
    "#             targets.append(char_to_int[txt_data[0]])   # When the data doesn't fit, add the first char to the back.\n",
    "            targets.append(char_to_int[\" \"])   # When the data doesn't fit, add space(\" \") to the back.\n",
    "\n",
    "\n",
    "        # forward\n",
    "        loss, ps, hs, xs = forwardprop(inputs, targets, h_prev)\n",
    "#         print(loss)\n",
    "    \n",
    "        # backward\n",
    "        dWxh, dWhh, dWhy, dbh, dby = backprop(ps, inputs, hs, xs) \n",
    "        \n",
    "        \n",
    "    # perform parameter update with Adagrad\n",
    "        for param, dparam, mem in zip([W_xh, W_hh, W_hy, b_h, b_y], \n",
    "                                    [dWxh, dWhh, dWhy, dbh, dby], \n",
    "                                    [mWxh, mWhh, mWhy, mbh, mby]):\n",
    "            mem += dparam * dparam # elementwise\n",
    "            param += -learning_rate * dparam / np.sqrt(mem + 1e-8) # adagrad update      \n",
    "    \n",
    "        data_pointer += sequence_length # move data pointer\n",
    "        \n",
    "    if i % 1 == 0:\n",
    "        print ('iter %d, loss: %f' % (i, loss)) # print progress"
   ]
  },
  {
   "cell_type": "markdown",
   "metadata": {
    "colab_type": "text",
    "id": "tjh8Ip68WgYV"
   },
   "source": [
    "#### Prediction"
   ]
  },
  {
   "cell_type": "code",
   "execution_count": 52,
   "metadata": {
    "colab": {},
    "colab_type": "code",
    "id": "HDCxDNPG68Hx"
   },
   "outputs": [],
   "source": [
    "def predict(test_char, length):\n",
    "    x = np.zeros((num_chars, 1)) \n",
    "    x[char_to_int[test_char]] = 1\n",
    "    ixes = []\n",
    "    h = np.zeros((hidden_size,1))\n",
    "\n",
    "    for t in range(length):\n",
    "        h = np.tanh(np.dot(W_xh, x) + np.dot(W_hh, h) + b_h) \n",
    "        y = np.dot(W_hy, h) + b_y\n",
    "        p = np.exp(y) / np.sum(np.exp(y)) \n",
    "        ix = np.random.choice(range(num_chars), p=p.ravel()) # ravel -> rank0\n",
    "        # \"ix\" is a list of indexes selected according to the soft max probability.\n",
    "        x = np.zeros((num_chars, 1)) # init\n",
    "        x[ix] = 1 \n",
    "        ixes.append(ix) # list\n",
    "    txt = test_char + ''.join(int_to_char[i] for i in ixes)\n",
    "    print ('----\\n %s \\n----' % (txt, ))"
   ]
  },
  {
   "cell_type": "code",
   "execution_count": 55,
   "metadata": {
    "colab": {
     "base_uri": "https://localhost:8080/",
     "height": 69
    },
    "colab_type": "code",
    "id": "nGVhl-Gxh6N6",
    "outputId": "e0c8b70b-fb50-4000-f4f8-a572539513db"
   },
   "outputs": [
    {
     "name": "stdout",
     "output_type": "stream",
     "text": [
      "----\n",
      " Caild, tinef greek anstinl sun o sobetst ren thee to the eare in nou this beareptillate housss on wow sury, are age so ear, whearmems ges buse,\r\n",
      "Yet mortal looks bars beay din tore anctert,\r\n",
      "And canot sounmake spacr unuteceey paristine fee.\r\n",
      "  This farm ave figlefithering hid the lof to swlethin weets happrigly liggarenis.\r\n",
      "\r\n",
      "Lee be fow thou that thy trom sepaut or iss yro livinlothrimtadurting the swertss on his of tho y:\r\n",
      "Thou are ancher lfrechigly now lively dell\r\n",
      "Thene,\r\n",
      "Thou are aud ho unothe sud thee,\r\n",
      "Aid thy gremaut ard of thy lle talavirr thou r’st wall wort shoukedor ast thour’st thea f ane,\r\n",
      "Ten tithy gistids bear’st cad aarones thy moress ancreds ald toplr theerim ther wotingred the sweethity’s twiet use,\r\n",
      "             3\r\n",
      "  Leat that loost\r\n",
      "Fo combed the gase art thee.\r\n",
      "\r\n",
      "\r\n",
      "                      4\r\n",
      "Hor at andald doll,\r\n",
      "Not le\r\n",
      "Atdink posterld, unine:\r\n",
      "Then warld livinl arus-led acundcu thy cand of thou:\r\n",
      "Then and mucter and orksol warr in the faere theel dut coudde lovee,\r\n",
      "W \n",
      "----\n"
     ]
    }
   ],
   "source": [
    "predict('C', 1000)"
   ]
  },
  {
   "cell_type": "code",
   "execution_count": null,
   "metadata": {},
   "outputs": [],
   "source": []
  },
  {
   "cell_type": "code",
   "execution_count": null,
   "metadata": {},
   "outputs": [],
   "source": []
  },
  {
   "cell_type": "code",
   "execution_count": null,
   "metadata": {},
   "outputs": [],
   "source": []
  },
  {
   "cell_type": "code",
   "execution_count": null,
   "metadata": {},
   "outputs": [],
   "source": []
  },
  {
   "cell_type": "code",
   "execution_count": null,
   "metadata": {},
   "outputs": [],
   "source": []
  },
  {
   "cell_type": "code",
   "execution_count": null,
   "metadata": {},
   "outputs": [],
   "source": []
  },
  {
   "cell_type": "markdown",
   "metadata": {
    "colab_type": "text",
    "id": "zE4a4O7Bp5x1"
   },
   "source": [
    "# Resources and Stretch Goals"
   ]
  },
  {
   "cell_type": "markdown",
   "metadata": {
    "colab_type": "text",
    "id": "uT3UV3gap9H6"
   },
   "source": [
    "## Stretch goals:\n",
    "- Refine the training and generation of text to be able to ask for different genres/styles of Shakespearean text (e.g. plays versus sonnets)\n",
    "- Train a classification model that takes text and returns which work of Shakespeare it is most likely to be from\n",
    "- Make it more performant! Many possible routes here - lean on Keras, optimize the code, and/or use more resources (AWS, etc.)\n",
    "- Revisit the news example from class, and improve it - use categories or tags to refine the model/generation, or train a news classifier\n",
    "- Run on bigger, better data\n",
    "\n",
    "## Resources:\n",
    "- [The Unreasonable Effectiveness of Recurrent Neural Networks](https://karpathy.github.io/2015/05/21/rnn-effectiveness/) - a seminal writeup demonstrating a simple but effective character-level NLP RNN\n",
    "- [Simple NumPy implementation of RNN](https://github.com/JY-Yoon/RNN-Implementation-using-NumPy/blob/master/RNN%20Implementation%20using%20NumPy.ipynb) - Python 3 version of the code from \"Unreasonable Effectiveness\"\n",
    "- [TensorFlow RNN Tutorial](https://github.com/tensorflow/models/tree/master/tutorials/rnn) - code for training a RNN on the Penn Tree Bank language dataset\n",
    "- [4 part tutorial on RNN](http://www.wildml.com/2015/09/recurrent-neural-networks-tutorial-part-1-introduction-to-rnns/) - relates RNN to the vanishing gradient problem, and provides example implementation\n",
    "- [RNN training tips and tricks](https://github.com/karpathy/char-rnn#tips-and-tricks) - some rules of thumb for parameterizing and training your RNN"
   ]
  }
 ],
 "metadata": {
  "accelerator": "GPU",
  "colab": {
   "collapsed_sections": [],
   "name": "LS_DS_441_RNN_and_LSTM.ipynb",
   "provenance": [],
   "version": "0.3.2"
  },
  "kernelspec": {
   "display_name": "conda_python3",
   "language": "python",
   "name": "conda_python3"
  },
  "language_info": {
   "codemirror_mode": {
    "name": "ipython",
    "version": 3
   },
   "file_extension": ".py",
   "mimetype": "text/x-python",
   "name": "python",
   "nbconvert_exporter": "python",
   "pygments_lexer": "ipython3",
   "version": "3.6.5"
  }
 },
 "nbformat": 4,
 "nbformat_minor": 1
}
